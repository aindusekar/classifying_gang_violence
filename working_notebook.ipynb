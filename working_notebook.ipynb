{
 "cells": [
  {
   "cell_type": "markdown",
   "metadata": {},
   "source": [
    "# Predicting Gang Violence"
   ]
  },
  {
   "cell_type": "markdown",
   "metadata": {},
   "source": [
    "Using a data set from buzzfeed and local police departments, we will create a model based on features from the data to predict if a crime occured is gang realted or not."
   ]
  },
  {
   "cell_type": "markdown",
   "metadata": {},
   "source": [
    "## EDA"
   ]
  },
  {
   "cell_type": "code",
   "execution_count": 1,
   "metadata": {},
   "outputs": [],
   "source": [
    "import pandas as pd\n",
    "import numpy as np\n",
    "import matplotlib.pyplot as plt\n",
    "%matplotlib inline"
   ]
  },
  {
   "cell_type": "code",
   "execution_count": 2,
   "metadata": {},
   "outputs": [
    {
     "name": "stderr",
     "output_type": "stream",
     "text": [
      "C:\\Users\\Akshay Indusekar\\Anaconda3\\lib\\site-packages\\IPython\\core\\interactiveshell.py:3058: DtypeWarning: Columns (4,7,10,14,15,16,17,18,19,20,21,22,24,25,27,29,30) have mixed types. Specify dtype option on import or set low_memory=False.\n",
      "  interactivity=interactivity, compiler=compiler, result=result)\n"
     ]
    }
   ],
   "source": [
    "df = pd.read_csv('offenses-standardized.csv')\n",
    "something = pd.read_csv('offenses-standardized.csv')"
   ]
  },
  {
   "cell_type": "code",
   "execution_count": 3,
   "metadata": {},
   "outputs": [
    {
     "data": {
      "text/html": [
       "<div>\n",
       "<style scoped>\n",
       "    .dataframe tbody tr th:only-of-type {\n",
       "        vertical-align: middle;\n",
       "    }\n",
       "\n",
       "    .dataframe tbody tr th {\n",
       "        vertical-align: top;\n",
       "    }\n",
       "\n",
       "    .dataframe thead th {\n",
       "        text-align: right;\n",
       "    }\n",
       "</style>\n",
       "<table border=\"1\" class=\"dataframe\">\n",
       "  <thead>\n",
       "    <tr style=\"text-align: right;\">\n",
       "      <th></th>\n",
       "      <th>row_hash</th>\n",
       "      <th>source</th>\n",
       "      <th>agency_name</th>\n",
       "      <th>agency_ori</th>\n",
       "      <th>agency_incident_id</th>\n",
       "      <th>occurred_date</th>\n",
       "      <th>occurred_time</th>\n",
       "      <th>offense_category</th>\n",
       "      <th>top_ucr_classification</th>\n",
       "      <th>top_local_classification</th>\n",
       "      <th>...</th>\n",
       "      <th>victim_race</th>\n",
       "      <th>victim_ethnicity</th>\n",
       "      <th>victim_race_condensed</th>\n",
       "      <th>victim_sex</th>\n",
       "      <th>case_status</th>\n",
       "      <th>arrest_ind</th>\n",
       "      <th>clearance_status</th>\n",
       "      <th>clearance_group</th>\n",
       "      <th>clearance_date</th>\n",
       "      <th>arrest_date</th>\n",
       "    </tr>\n",
       "  </thead>\n",
       "  <tbody>\n",
       "    <tr>\n",
       "      <td>0</td>\n",
       "      <td>MDBPD0000-C419771020-01-01</td>\n",
       "      <td>BALTIMORE-MAIN</td>\n",
       "      <td>BALTIMORE-PD</td>\n",
       "      <td>MDBPD0000</td>\n",
       "      <td>17V0351</td>\n",
       "      <td>2017-07-26</td>\n",
       "      <td>NaN</td>\n",
       "      <td>NON FATAL SHOOTING</td>\n",
       "      <td>NaN</td>\n",
       "      <td>NON FATAL SHOOTING</td>\n",
       "      <td>...</td>\n",
       "      <td>BLACK</td>\n",
       "      <td>NaN</td>\n",
       "      <td>BLACK/HISPANIC</td>\n",
       "      <td>MALE</td>\n",
       "      <td>OPEN</td>\n",
       "      <td>NaN</td>\n",
       "      <td>OPEN</td>\n",
       "      <td>Open &amp; No Arrest-Unspecified</td>\n",
       "      <td>NaN</td>\n",
       "      <td>NaN</td>\n",
       "    </tr>\n",
       "    <tr>\n",
       "      <td>1</td>\n",
       "      <td>MDBPD0000-B63BECA76C-01-01</td>\n",
       "      <td>BALTIMORE-MAIN</td>\n",
       "      <td>BALTIMORE-PD</td>\n",
       "      <td>MDBPD0000</td>\n",
       "      <td>17H0198</td>\n",
       "      <td>2017-07-26</td>\n",
       "      <td>NaN</td>\n",
       "      <td>NON FATAL SHOOTING</td>\n",
       "      <td>NaN</td>\n",
       "      <td>NON FATAL SHOOTING</td>\n",
       "      <td>...</td>\n",
       "      <td>BLACK</td>\n",
       "      <td>NaN</td>\n",
       "      <td>BLACK/HISPANIC</td>\n",
       "      <td>FEMALE</td>\n",
       "      <td>OPEN</td>\n",
       "      <td>NaN</td>\n",
       "      <td>OPEN</td>\n",
       "      <td>Open &amp; No Arrest-Unspecified</td>\n",
       "      <td>NaN</td>\n",
       "      <td>NaN</td>\n",
       "    </tr>\n",
       "    <tr>\n",
       "      <td>2</td>\n",
       "      <td>MDBPD0000-8A7079014F-01-01</td>\n",
       "      <td>BALTIMORE-MAIN</td>\n",
       "      <td>BALTIMORE-PD</td>\n",
       "      <td>MDBPD0000</td>\n",
       "      <td>17V0349</td>\n",
       "      <td>2017-07-25</td>\n",
       "      <td>NaN</td>\n",
       "      <td>NON FATAL SHOOTING</td>\n",
       "      <td>NaN</td>\n",
       "      <td>NON FATAL SHOOTING</td>\n",
       "      <td>...</td>\n",
       "      <td>BLACK</td>\n",
       "      <td>NaN</td>\n",
       "      <td>BLACK/HISPANIC</td>\n",
       "      <td>MALE</td>\n",
       "      <td>OPEN</td>\n",
       "      <td>NaN</td>\n",
       "      <td>OPEN</td>\n",
       "      <td>Open &amp; No Arrest-Unspecified</td>\n",
       "      <td>NaN</td>\n",
       "      <td>NaN</td>\n",
       "    </tr>\n",
       "    <tr>\n",
       "      <td>3</td>\n",
       "      <td>MDBPD0000-3EF6B5EBEF-01-01</td>\n",
       "      <td>BALTIMORE-MAIN</td>\n",
       "      <td>BALTIMORE-PD</td>\n",
       "      <td>MDBPD0000</td>\n",
       "      <td>17V0348</td>\n",
       "      <td>2017-07-25</td>\n",
       "      <td>NaN</td>\n",
       "      <td>NON FATAL SHOOTING</td>\n",
       "      <td>NaN</td>\n",
       "      <td>NON FATAL SHOOTING</td>\n",
       "      <td>...</td>\n",
       "      <td>BLACK</td>\n",
       "      <td>NaN</td>\n",
       "      <td>BLACK/HISPANIC</td>\n",
       "      <td>MALE</td>\n",
       "      <td>OPEN</td>\n",
       "      <td>NaN</td>\n",
       "      <td>OPEN</td>\n",
       "      <td>Open &amp; No Arrest-Unspecified</td>\n",
       "      <td>NaN</td>\n",
       "      <td>NaN</td>\n",
       "    </tr>\n",
       "    <tr>\n",
       "      <td>4</td>\n",
       "      <td>MDBPD0000-5995BFA411-01-01</td>\n",
       "      <td>BALTIMORE-MAIN</td>\n",
       "      <td>BALTIMORE-PD</td>\n",
       "      <td>MDBPD0000</td>\n",
       "      <td>17V0346</td>\n",
       "      <td>2017-07-24</td>\n",
       "      <td>NaN</td>\n",
       "      <td>NON FATAL SHOOTING</td>\n",
       "      <td>NaN</td>\n",
       "      <td>NON FATAL SHOOTING</td>\n",
       "      <td>...</td>\n",
       "      <td>BLACK</td>\n",
       "      <td>NaN</td>\n",
       "      <td>BLACK/HISPANIC</td>\n",
       "      <td>MALE</td>\n",
       "      <td>OPEN</td>\n",
       "      <td>NaN</td>\n",
       "      <td>OPEN</td>\n",
       "      <td>Open &amp; No Arrest-Unspecified</td>\n",
       "      <td>NaN</td>\n",
       "      <td>NaN</td>\n",
       "    </tr>\n",
       "  </tbody>\n",
       "</table>\n",
       "<p>5 rows × 31 columns</p>\n",
       "</div>"
      ],
      "text/plain": [
       "                     row_hash          source   agency_name agency_ori  \\\n",
       "0  MDBPD0000-C419771020-01-01  BALTIMORE-MAIN  BALTIMORE-PD  MDBPD0000   \n",
       "1  MDBPD0000-B63BECA76C-01-01  BALTIMORE-MAIN  BALTIMORE-PD  MDBPD0000   \n",
       "2  MDBPD0000-8A7079014F-01-01  BALTIMORE-MAIN  BALTIMORE-PD  MDBPD0000   \n",
       "3  MDBPD0000-3EF6B5EBEF-01-01  BALTIMORE-MAIN  BALTIMORE-PD  MDBPD0000   \n",
       "4  MDBPD0000-5995BFA411-01-01  BALTIMORE-MAIN  BALTIMORE-PD  MDBPD0000   \n",
       "\n",
       "  agency_incident_id occurred_date occurred_time    offense_category  \\\n",
       "0            17V0351    2017-07-26           NaN  NON FATAL SHOOTING   \n",
       "1            17H0198    2017-07-26           NaN  NON FATAL SHOOTING   \n",
       "2            17V0349    2017-07-25           NaN  NON FATAL SHOOTING   \n",
       "3            17V0348    2017-07-25           NaN  NON FATAL SHOOTING   \n",
       "4            17V0346    2017-07-24           NaN  NON FATAL SHOOTING   \n",
       "\n",
       "  top_ucr_classification top_local_classification  ... victim_race  \\\n",
       "0                    NaN       NON FATAL SHOOTING  ...       BLACK   \n",
       "1                    NaN       NON FATAL SHOOTING  ...       BLACK   \n",
       "2                    NaN       NON FATAL SHOOTING  ...       BLACK   \n",
       "3                    NaN       NON FATAL SHOOTING  ...       BLACK   \n",
       "4                    NaN       NON FATAL SHOOTING  ...       BLACK   \n",
       "\n",
       "  victim_ethnicity victim_race_condensed victim_sex case_status arrest_ind  \\\n",
       "0              NaN        BLACK/HISPANIC       MALE        OPEN        NaN   \n",
       "1              NaN        BLACK/HISPANIC     FEMALE        OPEN        NaN   \n",
       "2              NaN        BLACK/HISPANIC       MALE        OPEN        NaN   \n",
       "3              NaN        BLACK/HISPANIC       MALE        OPEN        NaN   \n",
       "4              NaN        BLACK/HISPANIC       MALE        OPEN        NaN   \n",
       "\n",
       "  clearance_status               clearance_group clearance_date arrest_date  \n",
       "0             OPEN  Open & No Arrest-Unspecified            NaN         NaN  \n",
       "1             OPEN  Open & No Arrest-Unspecified            NaN         NaN  \n",
       "2             OPEN  Open & No Arrest-Unspecified            NaN         NaN  \n",
       "3             OPEN  Open & No Arrest-Unspecified            NaN         NaN  \n",
       "4             OPEN  Open & No Arrest-Unspecified            NaN         NaN  \n",
       "\n",
       "[5 rows x 31 columns]"
      ]
     },
     "execution_count": 3,
     "metadata": {},
     "output_type": "execute_result"
    }
   ],
   "source": [
    "df.head()"
   ]
  },
  {
   "cell_type": "code",
   "execution_count": 4,
   "metadata": {},
   "outputs": [
    {
     "data": {
      "text/plain": [
       "array(['NON FATAL SHOOTING', 'HOMICIDE SHOOTING', 'HOMICIDE BEATING', ...,\n",
       "       'ASSAULT 2ND DEGREE INTENTIONAL INJURY TO PERSON RENDERING EMERGENCY CARE',\n",
       "       'ASSAULT 2ND DEGREE INTENTIONAL INJURY TO AMBULANCE OPERATOR/NURSE/PARAMEDIC/MEDICAL DOCTOR WHILE PERFORMING WORK RELATED DUTY',\n",
       "       'ASSAULT FIRST DEGREE- INTENTIONALLY DISFIGURE DESTROY AMPUTATE DISABLE'],\n",
       "      dtype=object)"
      ]
     },
     "execution_count": 4,
     "metadata": {},
     "output_type": "execute_result"
    }
   ],
   "source": [
    "df.top_local_classification.unique()"
   ]
  },
  {
   "cell_type": "code",
   "execution_count": 5,
   "metadata": {},
   "outputs": [],
   "source": [
    "# I want to see all my columns, so I set my columns diplay options to max\n",
    "\n",
    "pd.set_option('display.max_columns', None)"
   ]
  },
  {
   "cell_type": "code",
   "execution_count": 6,
   "metadata": {},
   "outputs": [
    {
     "data": {
      "text/plain": [
       "N              0.584448\n",
       "UNSPECIFIED    0.248238\n",
       "Y              0.141642\n",
       "UNKNOWN        0.020615\n",
       "MISSING        0.003340\n",
       "POS            0.000786\n",
       "UNK            0.000511\n",
       "UNCLEAR        0.000225\n",
       "INV            0.000112\n",
       "REL            0.000056\n",
       "MAY            0.000011\n",
       "NP             0.000006\n",
       "NO0            0.000006\n",
       "NOT            0.000006\n",
       "Name: gang_activity_ind, dtype: float64"
      ]
     },
     "execution_count": 6,
     "metadata": {},
     "output_type": "execute_result"
    }
   ],
   "source": [
    "# We want crimes associated with gang activity, so we will be looking at the 'N' and 'Y' columns.\n",
    "\n",
    "df.gang_activity_ind.value_counts(normalize = True)"
   ]
  },
  {
   "cell_type": "code",
   "execution_count": 7,
   "metadata": {},
   "outputs": [
    {
     "data": {
      "text/html": [
       "<div>\n",
       "<style scoped>\n",
       "    .dataframe tbody tr th:only-of-type {\n",
       "        vertical-align: middle;\n",
       "    }\n",
       "\n",
       "    .dataframe tbody tr th {\n",
       "        vertical-align: top;\n",
       "    }\n",
       "\n",
       "    .dataframe thead th {\n",
       "        text-align: right;\n",
       "    }\n",
       "</style>\n",
       "<table border=\"1\" class=\"dataframe\">\n",
       "  <thead>\n",
       "    <tr style=\"text-align: right;\">\n",
       "      <th></th>\n",
       "      <th>row_hash</th>\n",
       "      <th>source</th>\n",
       "      <th>agency_name</th>\n",
       "      <th>agency_ori</th>\n",
       "      <th>agency_incident_id</th>\n",
       "      <th>occurred_date</th>\n",
       "      <th>occurred_time</th>\n",
       "      <th>offense_category</th>\n",
       "      <th>top_ucr_classification</th>\n",
       "      <th>top_local_classification</th>\n",
       "      <th>nibrs_code</th>\n",
       "      <th>weapon</th>\n",
       "      <th>firearm_ind</th>\n",
       "      <th>offense_group</th>\n",
       "      <th>domestic_violence_ind</th>\n",
       "      <th>family_violence_ind</th>\n",
       "      <th>gang_activity_ind</th>\n",
       "      <th>relationship_to_offender</th>\n",
       "      <th>circumstance</th>\n",
       "      <th>inside_outside</th>\n",
       "      <th>victim_age</th>\n",
       "      <th>victim_race</th>\n",
       "      <th>victim_ethnicity</th>\n",
       "      <th>victim_race_condensed</th>\n",
       "      <th>victim_sex</th>\n",
       "      <th>case_status</th>\n",
       "      <th>arrest_ind</th>\n",
       "      <th>clearance_status</th>\n",
       "      <th>clearance_group</th>\n",
       "      <th>clearance_date</th>\n",
       "      <th>arrest_date</th>\n",
       "    </tr>\n",
       "  </thead>\n",
       "  <tbody>\n",
       "    <tr>\n",
       "      <td>0</td>\n",
       "      <td>MDBPD0000-C419771020-01-01</td>\n",
       "      <td>BALTIMORE-MAIN</td>\n",
       "      <td>BALTIMORE-PD</td>\n",
       "      <td>MDBPD0000</td>\n",
       "      <td>17V0351</td>\n",
       "      <td>2017-07-26</td>\n",
       "      <td>NaN</td>\n",
       "      <td>NON FATAL SHOOTING</td>\n",
       "      <td>NaN</td>\n",
       "      <td>NON FATAL SHOOTING</td>\n",
       "      <td>NaN</td>\n",
       "      <td>FIREARM</td>\n",
       "      <td>Y</td>\n",
       "      <td>Non-Fatal Shooting</td>\n",
       "      <td>NaN</td>\n",
       "      <td>NaN</td>\n",
       "      <td>NaN</td>\n",
       "      <td>NaN</td>\n",
       "      <td>NaN</td>\n",
       "      <td>NaN</td>\n",
       "      <td>22</td>\n",
       "      <td>BLACK</td>\n",
       "      <td>NaN</td>\n",
       "      <td>BLACK/HISPANIC</td>\n",
       "      <td>MALE</td>\n",
       "      <td>OPEN</td>\n",
       "      <td>NaN</td>\n",
       "      <td>OPEN</td>\n",
       "      <td>Open &amp; No Arrest-Unspecified</td>\n",
       "      <td>NaN</td>\n",
       "      <td>NaN</td>\n",
       "    </tr>\n",
       "    <tr>\n",
       "      <td>1</td>\n",
       "      <td>MDBPD0000-B63BECA76C-01-01</td>\n",
       "      <td>BALTIMORE-MAIN</td>\n",
       "      <td>BALTIMORE-PD</td>\n",
       "      <td>MDBPD0000</td>\n",
       "      <td>17H0198</td>\n",
       "      <td>2017-07-26</td>\n",
       "      <td>NaN</td>\n",
       "      <td>NON FATAL SHOOTING</td>\n",
       "      <td>NaN</td>\n",
       "      <td>NON FATAL SHOOTING</td>\n",
       "      <td>NaN</td>\n",
       "      <td>FIREARM</td>\n",
       "      <td>Y</td>\n",
       "      <td>Non-Fatal Shooting</td>\n",
       "      <td>NaN</td>\n",
       "      <td>NaN</td>\n",
       "      <td>NaN</td>\n",
       "      <td>NaN</td>\n",
       "      <td>NaN</td>\n",
       "      <td>NaN</td>\n",
       "      <td>53</td>\n",
       "      <td>BLACK</td>\n",
       "      <td>NaN</td>\n",
       "      <td>BLACK/HISPANIC</td>\n",
       "      <td>FEMALE</td>\n",
       "      <td>OPEN</td>\n",
       "      <td>NaN</td>\n",
       "      <td>OPEN</td>\n",
       "      <td>Open &amp; No Arrest-Unspecified</td>\n",
       "      <td>NaN</td>\n",
       "      <td>NaN</td>\n",
       "    </tr>\n",
       "    <tr>\n",
       "      <td>2</td>\n",
       "      <td>MDBPD0000-8A7079014F-01-01</td>\n",
       "      <td>BALTIMORE-MAIN</td>\n",
       "      <td>BALTIMORE-PD</td>\n",
       "      <td>MDBPD0000</td>\n",
       "      <td>17V0349</td>\n",
       "      <td>2017-07-25</td>\n",
       "      <td>NaN</td>\n",
       "      <td>NON FATAL SHOOTING</td>\n",
       "      <td>NaN</td>\n",
       "      <td>NON FATAL SHOOTING</td>\n",
       "      <td>NaN</td>\n",
       "      <td>FIREARM</td>\n",
       "      <td>Y</td>\n",
       "      <td>Non-Fatal Shooting</td>\n",
       "      <td>NaN</td>\n",
       "      <td>NaN</td>\n",
       "      <td>NaN</td>\n",
       "      <td>NaN</td>\n",
       "      <td>NaN</td>\n",
       "      <td>NaN</td>\n",
       "      <td>19</td>\n",
       "      <td>BLACK</td>\n",
       "      <td>NaN</td>\n",
       "      <td>BLACK/HISPANIC</td>\n",
       "      <td>MALE</td>\n",
       "      <td>OPEN</td>\n",
       "      <td>NaN</td>\n",
       "      <td>OPEN</td>\n",
       "      <td>Open &amp; No Arrest-Unspecified</td>\n",
       "      <td>NaN</td>\n",
       "      <td>NaN</td>\n",
       "    </tr>\n",
       "    <tr>\n",
       "      <td>3</td>\n",
       "      <td>MDBPD0000-3EF6B5EBEF-01-01</td>\n",
       "      <td>BALTIMORE-MAIN</td>\n",
       "      <td>BALTIMORE-PD</td>\n",
       "      <td>MDBPD0000</td>\n",
       "      <td>17V0348</td>\n",
       "      <td>2017-07-25</td>\n",
       "      <td>NaN</td>\n",
       "      <td>NON FATAL SHOOTING</td>\n",
       "      <td>NaN</td>\n",
       "      <td>NON FATAL SHOOTING</td>\n",
       "      <td>NaN</td>\n",
       "      <td>FIREARM</td>\n",
       "      <td>Y</td>\n",
       "      <td>Non-Fatal Shooting</td>\n",
       "      <td>NaN</td>\n",
       "      <td>NaN</td>\n",
       "      <td>NaN</td>\n",
       "      <td>NaN</td>\n",
       "      <td>NaN</td>\n",
       "      <td>NaN</td>\n",
       "      <td>29</td>\n",
       "      <td>BLACK</td>\n",
       "      <td>NaN</td>\n",
       "      <td>BLACK/HISPANIC</td>\n",
       "      <td>MALE</td>\n",
       "      <td>OPEN</td>\n",
       "      <td>NaN</td>\n",
       "      <td>OPEN</td>\n",
       "      <td>Open &amp; No Arrest-Unspecified</td>\n",
       "      <td>NaN</td>\n",
       "      <td>NaN</td>\n",
       "    </tr>\n",
       "    <tr>\n",
       "      <td>4</td>\n",
       "      <td>MDBPD0000-5995BFA411-01-01</td>\n",
       "      <td>BALTIMORE-MAIN</td>\n",
       "      <td>BALTIMORE-PD</td>\n",
       "      <td>MDBPD0000</td>\n",
       "      <td>17V0346</td>\n",
       "      <td>2017-07-24</td>\n",
       "      <td>NaN</td>\n",
       "      <td>NON FATAL SHOOTING</td>\n",
       "      <td>NaN</td>\n",
       "      <td>NON FATAL SHOOTING</td>\n",
       "      <td>NaN</td>\n",
       "      <td>FIREARM</td>\n",
       "      <td>Y</td>\n",
       "      <td>Non-Fatal Shooting</td>\n",
       "      <td>NaN</td>\n",
       "      <td>NaN</td>\n",
       "      <td>NaN</td>\n",
       "      <td>NaN</td>\n",
       "      <td>NaN</td>\n",
       "      <td>NaN</td>\n",
       "      <td>22</td>\n",
       "      <td>BLACK</td>\n",
       "      <td>NaN</td>\n",
       "      <td>BLACK/HISPANIC</td>\n",
       "      <td>MALE</td>\n",
       "      <td>OPEN</td>\n",
       "      <td>NaN</td>\n",
       "      <td>OPEN</td>\n",
       "      <td>Open &amp; No Arrest-Unspecified</td>\n",
       "      <td>NaN</td>\n",
       "      <td>NaN</td>\n",
       "    </tr>\n",
       "  </tbody>\n",
       "</table>\n",
       "</div>"
      ],
      "text/plain": [
       "                     row_hash          source   agency_name agency_ori  \\\n",
       "0  MDBPD0000-C419771020-01-01  BALTIMORE-MAIN  BALTIMORE-PD  MDBPD0000   \n",
       "1  MDBPD0000-B63BECA76C-01-01  BALTIMORE-MAIN  BALTIMORE-PD  MDBPD0000   \n",
       "2  MDBPD0000-8A7079014F-01-01  BALTIMORE-MAIN  BALTIMORE-PD  MDBPD0000   \n",
       "3  MDBPD0000-3EF6B5EBEF-01-01  BALTIMORE-MAIN  BALTIMORE-PD  MDBPD0000   \n",
       "4  MDBPD0000-5995BFA411-01-01  BALTIMORE-MAIN  BALTIMORE-PD  MDBPD0000   \n",
       "\n",
       "  agency_incident_id occurred_date occurred_time    offense_category  \\\n",
       "0            17V0351    2017-07-26           NaN  NON FATAL SHOOTING   \n",
       "1            17H0198    2017-07-26           NaN  NON FATAL SHOOTING   \n",
       "2            17V0349    2017-07-25           NaN  NON FATAL SHOOTING   \n",
       "3            17V0348    2017-07-25           NaN  NON FATAL SHOOTING   \n",
       "4            17V0346    2017-07-24           NaN  NON FATAL SHOOTING   \n",
       "\n",
       "  top_ucr_classification top_local_classification nibrs_code   weapon  \\\n",
       "0                    NaN       NON FATAL SHOOTING        NaN  FIREARM   \n",
       "1                    NaN       NON FATAL SHOOTING        NaN  FIREARM   \n",
       "2                    NaN       NON FATAL SHOOTING        NaN  FIREARM   \n",
       "3                    NaN       NON FATAL SHOOTING        NaN  FIREARM   \n",
       "4                    NaN       NON FATAL SHOOTING        NaN  FIREARM   \n",
       "\n",
       "  firearm_ind       offense_group domestic_violence_ind family_violence_ind  \\\n",
       "0           Y  Non-Fatal Shooting                   NaN                 NaN   \n",
       "1           Y  Non-Fatal Shooting                   NaN                 NaN   \n",
       "2           Y  Non-Fatal Shooting                   NaN                 NaN   \n",
       "3           Y  Non-Fatal Shooting                   NaN                 NaN   \n",
       "4           Y  Non-Fatal Shooting                   NaN                 NaN   \n",
       "\n",
       "  gang_activity_ind relationship_to_offender circumstance inside_outside  \\\n",
       "0               NaN                      NaN          NaN            NaN   \n",
       "1               NaN                      NaN          NaN            NaN   \n",
       "2               NaN                      NaN          NaN            NaN   \n",
       "3               NaN                      NaN          NaN            NaN   \n",
       "4               NaN                      NaN          NaN            NaN   \n",
       "\n",
       "  victim_age victim_race victim_ethnicity victim_race_condensed victim_sex  \\\n",
       "0         22       BLACK              NaN        BLACK/HISPANIC       MALE   \n",
       "1         53       BLACK              NaN        BLACK/HISPANIC     FEMALE   \n",
       "2         19       BLACK              NaN        BLACK/HISPANIC       MALE   \n",
       "3         29       BLACK              NaN        BLACK/HISPANIC       MALE   \n",
       "4         22       BLACK              NaN        BLACK/HISPANIC       MALE   \n",
       "\n",
       "  case_status arrest_ind clearance_status               clearance_group  \\\n",
       "0        OPEN        NaN             OPEN  Open & No Arrest-Unspecified   \n",
       "1        OPEN        NaN             OPEN  Open & No Arrest-Unspecified   \n",
       "2        OPEN        NaN             OPEN  Open & No Arrest-Unspecified   \n",
       "3        OPEN        NaN             OPEN  Open & No Arrest-Unspecified   \n",
       "4        OPEN        NaN             OPEN  Open & No Arrest-Unspecified   \n",
       "\n",
       "  clearance_date arrest_date  \n",
       "0            NaN         NaN  \n",
       "1            NaN         NaN  \n",
       "2            NaN         NaN  \n",
       "3            NaN         NaN  \n",
       "4            NaN         NaN  "
      ]
     },
     "execution_count": 7,
     "metadata": {},
     "output_type": "execute_result"
    }
   ],
   "source": [
    "df.head()"
   ]
  },
  {
   "cell_type": "code",
   "execution_count": 8,
   "metadata": {},
   "outputs": [
    {
     "data": {
      "text/plain": [
       "N          0.915438\n",
       "Y          0.080121\n",
       "MISSING    0.004330\n",
       "UNCLEAR    0.000111\n",
       "Name: family_violence_ind, dtype: float64"
      ]
     },
     "execution_count": 8,
     "metadata": {},
     "output_type": "execute_result"
    }
   ],
   "source": [
    "df.family_violence_ind.value_counts(normalize = True)"
   ]
  },
  {
   "cell_type": "code",
   "execution_count": 9,
   "metadata": {},
   "outputs": [
    {
     "data": {
      "text/plain": [
       "row_hash                         0\n",
       "source                           0\n",
       "agency_name                      0\n",
       "agency_ori                       0\n",
       "agency_incident_id               0\n",
       "occurred_date                   86\n",
       "occurred_time                18564\n",
       "offense_category            316594\n",
       "top_ucr_classification      108303\n",
       "top_local_classification     44977\n",
       "nibrs_code                  710134\n",
       "weapon                       51689\n",
       "firearm_ind                      0\n",
       "offense_group                    0\n",
       "domestic_violence_ind       278195\n",
       "family_violence_ind         702626\n",
       "gang_activity_ind           569490\n",
       "relationship_to_offender    582469\n",
       "circumstance                729749\n",
       "inside_outside              744816\n",
       "victim_age                  469869\n",
       "victim_race                 459988\n",
       "victim_ethnicity            546069\n",
       "victim_race_condensed            0\n",
       "victim_sex                  460048\n",
       "case_status                 419985\n",
       "arrest_ind                   59759\n",
       "clearance_status            390403\n",
       "clearance_group                  0\n",
       "clearance_date              732207\n",
       "arrest_date                 662393\n",
       "dtype: int64"
      ]
     },
     "execution_count": 9,
     "metadata": {},
     "output_type": "execute_result"
    }
   ],
   "source": [
    "df.isnull().sum()"
   ]
  },
  {
   "cell_type": "code",
   "execution_count": 10,
   "metadata": {},
   "outputs": [],
   "source": [
    "yes = df.loc[df['gang_activity_ind'] == 'Y']"
   ]
  },
  {
   "cell_type": "code",
   "execution_count": 11,
   "metadata": {},
   "outputs": [
    {
     "name": "stdout",
     "output_type": "stream",
     "text": [
      "<class 'pandas.core.frame.DataFrame'>\n",
      "Int64Index: 25236 entries, 274808 to 502656\n",
      "Data columns (total 31 columns):\n",
      "row_hash                    25236 non-null object\n",
      "source                      25236 non-null object\n",
      "agency_name                 25236 non-null object\n",
      "agency_ori                  25236 non-null object\n",
      "agency_incident_id          25236 non-null object\n",
      "occurred_date               25236 non-null object\n",
      "occurred_time               24824 non-null object\n",
      "offense_category            25112 non-null object\n",
      "top_ucr_classification      21838 non-null object\n",
      "top_local_classification    24823 non-null object\n",
      "nibrs_code                  287 non-null object\n",
      "weapon                      24358 non-null object\n",
      "firearm_ind                 25236 non-null object\n",
      "offense_group               25236 non-null object\n",
      "domestic_violence_ind       3922 non-null object\n",
      "family_violence_ind         996 non-null object\n",
      "gang_activity_ind           25236 non-null object\n",
      "relationship_to_offender    3930 non-null object\n",
      "circumstance                692 non-null object\n",
      "inside_outside              65 non-null object\n",
      "victim_age                  24430 non-null object\n",
      "victim_race                 25211 non-null object\n",
      "victim_ethnicity            23370 non-null object\n",
      "victim_race_condensed       25236 non-null object\n",
      "victim_sex                  25218 non-null object\n",
      "case_status                 25110 non-null object\n",
      "arrest_ind                  21964 non-null object\n",
      "clearance_status            25128 non-null object\n",
      "clearance_group             25236 non-null object\n",
      "clearance_date              252 non-null object\n",
      "arrest_date                 144 non-null object\n",
      "dtypes: object(31)\n",
      "memory usage: 6.2+ MB\n"
     ]
    }
   ],
   "source": [
    "yes.info()"
   ]
  },
  {
   "cell_type": "code",
   "execution_count": 12,
   "metadata": {},
   "outputs": [
    {
     "data": {
      "text/html": [
       "<div>\n",
       "<style scoped>\n",
       "    .dataframe tbody tr th:only-of-type {\n",
       "        vertical-align: middle;\n",
       "    }\n",
       "\n",
       "    .dataframe tbody tr th {\n",
       "        vertical-align: top;\n",
       "    }\n",
       "\n",
       "    .dataframe thead th {\n",
       "        text-align: right;\n",
       "    }\n",
       "</style>\n",
       "<table border=\"1\" class=\"dataframe\">\n",
       "  <thead>\n",
       "    <tr style=\"text-align: right;\">\n",
       "      <th></th>\n",
       "      <th>row_hash</th>\n",
       "      <th>source</th>\n",
       "      <th>agency_name</th>\n",
       "      <th>agency_ori</th>\n",
       "      <th>agency_incident_id</th>\n",
       "      <th>occurred_date</th>\n",
       "      <th>occurred_time</th>\n",
       "      <th>offense_category</th>\n",
       "      <th>top_ucr_classification</th>\n",
       "      <th>top_local_classification</th>\n",
       "      <th>nibrs_code</th>\n",
       "      <th>weapon</th>\n",
       "      <th>firearm_ind</th>\n",
       "      <th>offense_group</th>\n",
       "      <th>domestic_violence_ind</th>\n",
       "      <th>family_violence_ind</th>\n",
       "      <th>gang_activity_ind</th>\n",
       "      <th>relationship_to_offender</th>\n",
       "      <th>circumstance</th>\n",
       "      <th>inside_outside</th>\n",
       "      <th>victim_age</th>\n",
       "      <th>victim_race</th>\n",
       "      <th>victim_ethnicity</th>\n",
       "      <th>victim_race_condensed</th>\n",
       "      <th>victim_sex</th>\n",
       "      <th>case_status</th>\n",
       "      <th>arrest_ind</th>\n",
       "      <th>clearance_status</th>\n",
       "      <th>clearance_group</th>\n",
       "      <th>clearance_date</th>\n",
       "      <th>arrest_date</th>\n",
       "    </tr>\n",
       "  </thead>\n",
       "  <tbody>\n",
       "    <tr>\n",
       "      <td>0</td>\n",
       "      <td>MDBPD0000-C419771020-01-01</td>\n",
       "      <td>BALTIMORE-MAIN</td>\n",
       "      <td>BALTIMORE-PD</td>\n",
       "      <td>MDBPD0000</td>\n",
       "      <td>17V0351</td>\n",
       "      <td>2017-07-26</td>\n",
       "      <td>NaN</td>\n",
       "      <td>NON FATAL SHOOTING</td>\n",
       "      <td>NaN</td>\n",
       "      <td>NON FATAL SHOOTING</td>\n",
       "      <td>NaN</td>\n",
       "      <td>FIREARM</td>\n",
       "      <td>Y</td>\n",
       "      <td>Non-Fatal Shooting</td>\n",
       "      <td>NaN</td>\n",
       "      <td>NaN</td>\n",
       "      <td>NaN</td>\n",
       "      <td>NaN</td>\n",
       "      <td>NaN</td>\n",
       "      <td>NaN</td>\n",
       "      <td>22</td>\n",
       "      <td>BLACK</td>\n",
       "      <td>NaN</td>\n",
       "      <td>BLACK/HISPANIC</td>\n",
       "      <td>MALE</td>\n",
       "      <td>OPEN</td>\n",
       "      <td>NaN</td>\n",
       "      <td>OPEN</td>\n",
       "      <td>Open &amp; No Arrest-Unspecified</td>\n",
       "      <td>NaN</td>\n",
       "      <td>NaN</td>\n",
       "    </tr>\n",
       "    <tr>\n",
       "      <td>1</td>\n",
       "      <td>MDBPD0000-B63BECA76C-01-01</td>\n",
       "      <td>BALTIMORE-MAIN</td>\n",
       "      <td>BALTIMORE-PD</td>\n",
       "      <td>MDBPD0000</td>\n",
       "      <td>17H0198</td>\n",
       "      <td>2017-07-26</td>\n",
       "      <td>NaN</td>\n",
       "      <td>NON FATAL SHOOTING</td>\n",
       "      <td>NaN</td>\n",
       "      <td>NON FATAL SHOOTING</td>\n",
       "      <td>NaN</td>\n",
       "      <td>FIREARM</td>\n",
       "      <td>Y</td>\n",
       "      <td>Non-Fatal Shooting</td>\n",
       "      <td>NaN</td>\n",
       "      <td>NaN</td>\n",
       "      <td>NaN</td>\n",
       "      <td>NaN</td>\n",
       "      <td>NaN</td>\n",
       "      <td>NaN</td>\n",
       "      <td>53</td>\n",
       "      <td>BLACK</td>\n",
       "      <td>NaN</td>\n",
       "      <td>BLACK/HISPANIC</td>\n",
       "      <td>FEMALE</td>\n",
       "      <td>OPEN</td>\n",
       "      <td>NaN</td>\n",
       "      <td>OPEN</td>\n",
       "      <td>Open &amp; No Arrest-Unspecified</td>\n",
       "      <td>NaN</td>\n",
       "      <td>NaN</td>\n",
       "    </tr>\n",
       "    <tr>\n",
       "      <td>2</td>\n",
       "      <td>MDBPD0000-8A7079014F-01-01</td>\n",
       "      <td>BALTIMORE-MAIN</td>\n",
       "      <td>BALTIMORE-PD</td>\n",
       "      <td>MDBPD0000</td>\n",
       "      <td>17V0349</td>\n",
       "      <td>2017-07-25</td>\n",
       "      <td>NaN</td>\n",
       "      <td>NON FATAL SHOOTING</td>\n",
       "      <td>NaN</td>\n",
       "      <td>NON FATAL SHOOTING</td>\n",
       "      <td>NaN</td>\n",
       "      <td>FIREARM</td>\n",
       "      <td>Y</td>\n",
       "      <td>Non-Fatal Shooting</td>\n",
       "      <td>NaN</td>\n",
       "      <td>NaN</td>\n",
       "      <td>NaN</td>\n",
       "      <td>NaN</td>\n",
       "      <td>NaN</td>\n",
       "      <td>NaN</td>\n",
       "      <td>19</td>\n",
       "      <td>BLACK</td>\n",
       "      <td>NaN</td>\n",
       "      <td>BLACK/HISPANIC</td>\n",
       "      <td>MALE</td>\n",
       "      <td>OPEN</td>\n",
       "      <td>NaN</td>\n",
       "      <td>OPEN</td>\n",
       "      <td>Open &amp; No Arrest-Unspecified</td>\n",
       "      <td>NaN</td>\n",
       "      <td>NaN</td>\n",
       "    </tr>\n",
       "    <tr>\n",
       "      <td>3</td>\n",
       "      <td>MDBPD0000-3EF6B5EBEF-01-01</td>\n",
       "      <td>BALTIMORE-MAIN</td>\n",
       "      <td>BALTIMORE-PD</td>\n",
       "      <td>MDBPD0000</td>\n",
       "      <td>17V0348</td>\n",
       "      <td>2017-07-25</td>\n",
       "      <td>NaN</td>\n",
       "      <td>NON FATAL SHOOTING</td>\n",
       "      <td>NaN</td>\n",
       "      <td>NON FATAL SHOOTING</td>\n",
       "      <td>NaN</td>\n",
       "      <td>FIREARM</td>\n",
       "      <td>Y</td>\n",
       "      <td>Non-Fatal Shooting</td>\n",
       "      <td>NaN</td>\n",
       "      <td>NaN</td>\n",
       "      <td>NaN</td>\n",
       "      <td>NaN</td>\n",
       "      <td>NaN</td>\n",
       "      <td>NaN</td>\n",
       "      <td>29</td>\n",
       "      <td>BLACK</td>\n",
       "      <td>NaN</td>\n",
       "      <td>BLACK/HISPANIC</td>\n",
       "      <td>MALE</td>\n",
       "      <td>OPEN</td>\n",
       "      <td>NaN</td>\n",
       "      <td>OPEN</td>\n",
       "      <td>Open &amp; No Arrest-Unspecified</td>\n",
       "      <td>NaN</td>\n",
       "      <td>NaN</td>\n",
       "    </tr>\n",
       "    <tr>\n",
       "      <td>4</td>\n",
       "      <td>MDBPD0000-5995BFA411-01-01</td>\n",
       "      <td>BALTIMORE-MAIN</td>\n",
       "      <td>BALTIMORE-PD</td>\n",
       "      <td>MDBPD0000</td>\n",
       "      <td>17V0346</td>\n",
       "      <td>2017-07-24</td>\n",
       "      <td>NaN</td>\n",
       "      <td>NON FATAL SHOOTING</td>\n",
       "      <td>NaN</td>\n",
       "      <td>NON FATAL SHOOTING</td>\n",
       "      <td>NaN</td>\n",
       "      <td>FIREARM</td>\n",
       "      <td>Y</td>\n",
       "      <td>Non-Fatal Shooting</td>\n",
       "      <td>NaN</td>\n",
       "      <td>NaN</td>\n",
       "      <td>NaN</td>\n",
       "      <td>NaN</td>\n",
       "      <td>NaN</td>\n",
       "      <td>NaN</td>\n",
       "      <td>22</td>\n",
       "      <td>BLACK</td>\n",
       "      <td>NaN</td>\n",
       "      <td>BLACK/HISPANIC</td>\n",
       "      <td>MALE</td>\n",
       "      <td>OPEN</td>\n",
       "      <td>NaN</td>\n",
       "      <td>OPEN</td>\n",
       "      <td>Open &amp; No Arrest-Unspecified</td>\n",
       "      <td>NaN</td>\n",
       "      <td>NaN</td>\n",
       "    </tr>\n",
       "  </tbody>\n",
       "</table>\n",
       "</div>"
      ],
      "text/plain": [
       "                     row_hash          source   agency_name agency_ori  \\\n",
       "0  MDBPD0000-C419771020-01-01  BALTIMORE-MAIN  BALTIMORE-PD  MDBPD0000   \n",
       "1  MDBPD0000-B63BECA76C-01-01  BALTIMORE-MAIN  BALTIMORE-PD  MDBPD0000   \n",
       "2  MDBPD0000-8A7079014F-01-01  BALTIMORE-MAIN  BALTIMORE-PD  MDBPD0000   \n",
       "3  MDBPD0000-3EF6B5EBEF-01-01  BALTIMORE-MAIN  BALTIMORE-PD  MDBPD0000   \n",
       "4  MDBPD0000-5995BFA411-01-01  BALTIMORE-MAIN  BALTIMORE-PD  MDBPD0000   \n",
       "\n",
       "  agency_incident_id occurred_date occurred_time    offense_category  \\\n",
       "0            17V0351    2017-07-26           NaN  NON FATAL SHOOTING   \n",
       "1            17H0198    2017-07-26           NaN  NON FATAL SHOOTING   \n",
       "2            17V0349    2017-07-25           NaN  NON FATAL SHOOTING   \n",
       "3            17V0348    2017-07-25           NaN  NON FATAL SHOOTING   \n",
       "4            17V0346    2017-07-24           NaN  NON FATAL SHOOTING   \n",
       "\n",
       "  top_ucr_classification top_local_classification nibrs_code   weapon  \\\n",
       "0                    NaN       NON FATAL SHOOTING        NaN  FIREARM   \n",
       "1                    NaN       NON FATAL SHOOTING        NaN  FIREARM   \n",
       "2                    NaN       NON FATAL SHOOTING        NaN  FIREARM   \n",
       "3                    NaN       NON FATAL SHOOTING        NaN  FIREARM   \n",
       "4                    NaN       NON FATAL SHOOTING        NaN  FIREARM   \n",
       "\n",
       "  firearm_ind       offense_group domestic_violence_ind family_violence_ind  \\\n",
       "0           Y  Non-Fatal Shooting                   NaN                 NaN   \n",
       "1           Y  Non-Fatal Shooting                   NaN                 NaN   \n",
       "2           Y  Non-Fatal Shooting                   NaN                 NaN   \n",
       "3           Y  Non-Fatal Shooting                   NaN                 NaN   \n",
       "4           Y  Non-Fatal Shooting                   NaN                 NaN   \n",
       "\n",
       "  gang_activity_ind relationship_to_offender circumstance inside_outside  \\\n",
       "0               NaN                      NaN          NaN            NaN   \n",
       "1               NaN                      NaN          NaN            NaN   \n",
       "2               NaN                      NaN          NaN            NaN   \n",
       "3               NaN                      NaN          NaN            NaN   \n",
       "4               NaN                      NaN          NaN            NaN   \n",
       "\n",
       "  victim_age victim_race victim_ethnicity victim_race_condensed victim_sex  \\\n",
       "0         22       BLACK              NaN        BLACK/HISPANIC       MALE   \n",
       "1         53       BLACK              NaN        BLACK/HISPANIC     FEMALE   \n",
       "2         19       BLACK              NaN        BLACK/HISPANIC       MALE   \n",
       "3         29       BLACK              NaN        BLACK/HISPANIC       MALE   \n",
       "4         22       BLACK              NaN        BLACK/HISPANIC       MALE   \n",
       "\n",
       "  case_status arrest_ind clearance_status               clearance_group  \\\n",
       "0        OPEN        NaN             OPEN  Open & No Arrest-Unspecified   \n",
       "1        OPEN        NaN             OPEN  Open & No Arrest-Unspecified   \n",
       "2        OPEN        NaN             OPEN  Open & No Arrest-Unspecified   \n",
       "3        OPEN        NaN             OPEN  Open & No Arrest-Unspecified   \n",
       "4        OPEN        NaN             OPEN  Open & No Arrest-Unspecified   \n",
       "\n",
       "  clearance_date arrest_date  \n",
       "0            NaN         NaN  \n",
       "1            NaN         NaN  \n",
       "2            NaN         NaN  \n",
       "3            NaN         NaN  \n",
       "4            NaN         NaN  "
      ]
     },
     "execution_count": 12,
     "metadata": {},
     "output_type": "execute_result"
    }
   ],
   "source": [
    "df.head()"
   ]
  },
  {
   "cell_type": "code",
   "execution_count": 13,
   "metadata": {},
   "outputs": [
    {
     "data": {
      "text/html": [
       "<div>\n",
       "<style scoped>\n",
       "    .dataframe tbody tr th:only-of-type {\n",
       "        vertical-align: middle;\n",
       "    }\n",
       "\n",
       "    .dataframe tbody tr th {\n",
       "        vertical-align: top;\n",
       "    }\n",
       "\n",
       "    .dataframe thead th {\n",
       "        text-align: right;\n",
       "    }\n",
       "</style>\n",
       "<table border=\"1\" class=\"dataframe\">\n",
       "  <thead>\n",
       "    <tr style=\"text-align: right;\">\n",
       "      <th></th>\n",
       "      <th>source</th>\n",
       "      <th>occurred_date</th>\n",
       "      <th>offense_category</th>\n",
       "      <th>firearm_ind</th>\n",
       "      <th>offense_group</th>\n",
       "      <th>domestic_violence_ind</th>\n",
       "      <th>family_violence_ind</th>\n",
       "      <th>gang_activity_ind</th>\n",
       "      <th>inside_outside</th>\n",
       "      <th>victim_age</th>\n",
       "      <th>victim_race</th>\n",
       "      <th>victim_sex</th>\n",
       "      <th>arrest_ind</th>\n",
       "    </tr>\n",
       "  </thead>\n",
       "  <tbody>\n",
       "    <tr>\n",
       "      <td>0</td>\n",
       "      <td>BALTIMORE-MAIN</td>\n",
       "      <td>2017-07-26</td>\n",
       "      <td>NON FATAL SHOOTING</td>\n",
       "      <td>Y</td>\n",
       "      <td>Non-Fatal Shooting</td>\n",
       "      <td>NaN</td>\n",
       "      <td>NaN</td>\n",
       "      <td>NaN</td>\n",
       "      <td>NaN</td>\n",
       "      <td>22</td>\n",
       "      <td>BLACK</td>\n",
       "      <td>MALE</td>\n",
       "      <td>NaN</td>\n",
       "    </tr>\n",
       "    <tr>\n",
       "      <td>1</td>\n",
       "      <td>BALTIMORE-MAIN</td>\n",
       "      <td>2017-07-26</td>\n",
       "      <td>NON FATAL SHOOTING</td>\n",
       "      <td>Y</td>\n",
       "      <td>Non-Fatal Shooting</td>\n",
       "      <td>NaN</td>\n",
       "      <td>NaN</td>\n",
       "      <td>NaN</td>\n",
       "      <td>NaN</td>\n",
       "      <td>53</td>\n",
       "      <td>BLACK</td>\n",
       "      <td>FEMALE</td>\n",
       "      <td>NaN</td>\n",
       "    </tr>\n",
       "    <tr>\n",
       "      <td>2</td>\n",
       "      <td>BALTIMORE-MAIN</td>\n",
       "      <td>2017-07-25</td>\n",
       "      <td>NON FATAL SHOOTING</td>\n",
       "      <td>Y</td>\n",
       "      <td>Non-Fatal Shooting</td>\n",
       "      <td>NaN</td>\n",
       "      <td>NaN</td>\n",
       "      <td>NaN</td>\n",
       "      <td>NaN</td>\n",
       "      <td>19</td>\n",
       "      <td>BLACK</td>\n",
       "      <td>MALE</td>\n",
       "      <td>NaN</td>\n",
       "    </tr>\n",
       "    <tr>\n",
       "      <td>3</td>\n",
       "      <td>BALTIMORE-MAIN</td>\n",
       "      <td>2017-07-25</td>\n",
       "      <td>NON FATAL SHOOTING</td>\n",
       "      <td>Y</td>\n",
       "      <td>Non-Fatal Shooting</td>\n",
       "      <td>NaN</td>\n",
       "      <td>NaN</td>\n",
       "      <td>NaN</td>\n",
       "      <td>NaN</td>\n",
       "      <td>29</td>\n",
       "      <td>BLACK</td>\n",
       "      <td>MALE</td>\n",
       "      <td>NaN</td>\n",
       "    </tr>\n",
       "    <tr>\n",
       "      <td>4</td>\n",
       "      <td>BALTIMORE-MAIN</td>\n",
       "      <td>2017-07-24</td>\n",
       "      <td>NON FATAL SHOOTING</td>\n",
       "      <td>Y</td>\n",
       "      <td>Non-Fatal Shooting</td>\n",
       "      <td>NaN</td>\n",
       "      <td>NaN</td>\n",
       "      <td>NaN</td>\n",
       "      <td>NaN</td>\n",
       "      <td>22</td>\n",
       "      <td>BLACK</td>\n",
       "      <td>MALE</td>\n",
       "      <td>NaN</td>\n",
       "    </tr>\n",
       "    <tr>\n",
       "      <td>...</td>\n",
       "      <td>...</td>\n",
       "      <td>...</td>\n",
       "      <td>...</td>\n",
       "      <td>...</td>\n",
       "      <td>...</td>\n",
       "      <td>...</td>\n",
       "      <td>...</td>\n",
       "      <td>...</td>\n",
       "      <td>...</td>\n",
       "      <td>...</td>\n",
       "      <td>...</td>\n",
       "      <td>...</td>\n",
       "      <td>...</td>\n",
       "    </tr>\n",
       "    <tr>\n",
       "      <td>747653</td>\n",
       "      <td>WILMINGTON-MAIN</td>\n",
       "      <td>2018-03-18</td>\n",
       "      <td>AGGRAVATED ASSAULT</td>\n",
       "      <td>Y</td>\n",
       "      <td>Agg Assault - Gun</td>\n",
       "      <td>N</td>\n",
       "      <td>N</td>\n",
       "      <td>NaN</td>\n",
       "      <td>NaN</td>\n",
       "      <td>NaN</td>\n",
       "      <td>NaN</td>\n",
       "      <td>NaN</td>\n",
       "      <td>N</td>\n",
       "    </tr>\n",
       "    <tr>\n",
       "      <td>747654</td>\n",
       "      <td>WILMINGTON-MAIN</td>\n",
       "      <td>2018-03-18</td>\n",
       "      <td>AGGRAVATED ASSAULT</td>\n",
       "      <td>Y</td>\n",
       "      <td>Agg Assault - Gun</td>\n",
       "      <td>N</td>\n",
       "      <td>N</td>\n",
       "      <td>NaN</td>\n",
       "      <td>NaN</td>\n",
       "      <td>NaN</td>\n",
       "      <td>NaN</td>\n",
       "      <td>NaN</td>\n",
       "      <td>N</td>\n",
       "    </tr>\n",
       "    <tr>\n",
       "      <td>747655</td>\n",
       "      <td>WILMINGTON-MAIN</td>\n",
       "      <td>2018-03-18</td>\n",
       "      <td>AGGRAVATED ASSAULT</td>\n",
       "      <td>N</td>\n",
       "      <td>Agg Assault - Other Weapon</td>\n",
       "      <td>N</td>\n",
       "      <td>N</td>\n",
       "      <td>NaN</td>\n",
       "      <td>NaN</td>\n",
       "      <td>NaN</td>\n",
       "      <td>NaN</td>\n",
       "      <td>NaN</td>\n",
       "      <td>N</td>\n",
       "    </tr>\n",
       "    <tr>\n",
       "      <td>747656</td>\n",
       "      <td>WILMINGTON-MAIN</td>\n",
       "      <td>2018-03-20</td>\n",
       "      <td>AGGRAVATED ASSAULT</td>\n",
       "      <td>N</td>\n",
       "      <td>Agg Assault - Other Weapon</td>\n",
       "      <td>N</td>\n",
       "      <td>N</td>\n",
       "      <td>NaN</td>\n",
       "      <td>NaN</td>\n",
       "      <td>NaN</td>\n",
       "      <td>NaN</td>\n",
       "      <td>NaN</td>\n",
       "      <td>N</td>\n",
       "    </tr>\n",
       "    <tr>\n",
       "      <td>747657</td>\n",
       "      <td>WILMINGTON-MAIN</td>\n",
       "      <td>2018-03-20</td>\n",
       "      <td>AGGRAVATED ASSAULT</td>\n",
       "      <td>N</td>\n",
       "      <td>Agg Assault - Other Weapon</td>\n",
       "      <td>N</td>\n",
       "      <td>N</td>\n",
       "      <td>NaN</td>\n",
       "      <td>NaN</td>\n",
       "      <td>NaN</td>\n",
       "      <td>NaN</td>\n",
       "      <td>NaN</td>\n",
       "      <td>N</td>\n",
       "    </tr>\n",
       "  </tbody>\n",
       "</table>\n",
       "<p>747658 rows × 13 columns</p>\n",
       "</div>"
      ],
      "text/plain": [
       "                 source occurred_date    offense_category firearm_ind  \\\n",
       "0        BALTIMORE-MAIN    2017-07-26  NON FATAL SHOOTING           Y   \n",
       "1        BALTIMORE-MAIN    2017-07-26  NON FATAL SHOOTING           Y   \n",
       "2        BALTIMORE-MAIN    2017-07-25  NON FATAL SHOOTING           Y   \n",
       "3        BALTIMORE-MAIN    2017-07-25  NON FATAL SHOOTING           Y   \n",
       "4        BALTIMORE-MAIN    2017-07-24  NON FATAL SHOOTING           Y   \n",
       "...                 ...           ...                 ...         ...   \n",
       "747653  WILMINGTON-MAIN    2018-03-18  AGGRAVATED ASSAULT           Y   \n",
       "747654  WILMINGTON-MAIN    2018-03-18  AGGRAVATED ASSAULT           Y   \n",
       "747655  WILMINGTON-MAIN    2018-03-18  AGGRAVATED ASSAULT           N   \n",
       "747656  WILMINGTON-MAIN    2018-03-20  AGGRAVATED ASSAULT           N   \n",
       "747657  WILMINGTON-MAIN    2018-03-20  AGGRAVATED ASSAULT           N   \n",
       "\n",
       "                     offense_group domestic_violence_ind family_violence_ind  \\\n",
       "0               Non-Fatal Shooting                   NaN                 NaN   \n",
       "1               Non-Fatal Shooting                   NaN                 NaN   \n",
       "2               Non-Fatal Shooting                   NaN                 NaN   \n",
       "3               Non-Fatal Shooting                   NaN                 NaN   \n",
       "4               Non-Fatal Shooting                   NaN                 NaN   \n",
       "...                            ...                   ...                 ...   \n",
       "747653           Agg Assault - Gun                     N                   N   \n",
       "747654           Agg Assault - Gun                     N                   N   \n",
       "747655  Agg Assault - Other Weapon                     N                   N   \n",
       "747656  Agg Assault - Other Weapon                     N                   N   \n",
       "747657  Agg Assault - Other Weapon                     N                   N   \n",
       "\n",
       "       gang_activity_ind inside_outside victim_age victim_race victim_sex  \\\n",
       "0                    NaN            NaN         22       BLACK       MALE   \n",
       "1                    NaN            NaN         53       BLACK     FEMALE   \n",
       "2                    NaN            NaN         19       BLACK       MALE   \n",
       "3                    NaN            NaN         29       BLACK       MALE   \n",
       "4                    NaN            NaN         22       BLACK       MALE   \n",
       "...                  ...            ...        ...         ...        ...   \n",
       "747653               NaN            NaN        NaN         NaN        NaN   \n",
       "747654               NaN            NaN        NaN         NaN        NaN   \n",
       "747655               NaN            NaN        NaN         NaN        NaN   \n",
       "747656               NaN            NaN        NaN         NaN        NaN   \n",
       "747657               NaN            NaN        NaN         NaN        NaN   \n",
       "\n",
       "       arrest_ind  \n",
       "0             NaN  \n",
       "1             NaN  \n",
       "2             NaN  \n",
       "3             NaN  \n",
       "4             NaN  \n",
       "...           ...  \n",
       "747653          N  \n",
       "747654          N  \n",
       "747655          N  \n",
       "747656          N  \n",
       "747657          N  \n",
       "\n",
       "[747658 rows x 13 columns]"
      ]
     },
     "execution_count": 13,
     "metadata": {},
     "output_type": "execute_result"
    }
   ],
   "source": [
    "df2 = df.drop(columns = ['row_hash','arrest_date','clearance_date','clearance_group','clearance_status','case_status',\n",
    "                   'victim_race_condensed','victim_ethnicity','circumstance','relationship_to_offender',\n",
    "                  'weapon','nibrs_code','top_local_classification','top_ucr_classification',\n",
    "                  'agency_name','agency_ori','agency_incident_id', 'occurred_time'])\n",
    "df2"
   ]
  },
  {
   "cell_type": "code",
   "execution_count": 14,
   "metadata": {},
   "outputs": [
    {
     "data": {
      "text/plain": [
       "AGGRAVATED ASSAULT                               160633\n",
       "AGG ASSAULT                                      140043\n",
       "AGG ASSAULT - OTHER WEAPON                        64534\n",
       "HOMICIDE                                          20360\n",
       "AGG ASSAULT - FIREARM - DISCHARGE UNSPECIFIED      8999\n",
       "AGG ASSAULT - SHOOTING - NON-FATAL                 7426\n",
       "MURDER                                             5609\n",
       "AGG ASSAULT - SHOOTING - HIT UNSPECIFIED           5589\n",
       "AGG ASSAULT - UNSPECIFIED WEAPON                   4030\n",
       "NON-FATAL SHOOTING                                 3755\n",
       "NON FATAL SHOOTING                                 3621\n",
       "AGG ASSAULT - SHOOTING - NO HIT                    3076\n",
       "HOMICIDE - CRIMINAL - SHOOTING - FATAL             1730\n",
       "NON-FATAL-SHOOTING                                  908\n",
       "HOMICIDE - CRIMINAL - OTHER WEAPON                  608\n",
       "MURDER AND NON-NEGLIGENT MANSLAUGHTER               138\n",
       "HOMICIDE - CRIMINAL - UNSPECIFIED WEAPON              5\n",
       "Name: offense_category, dtype: int64"
      ]
     },
     "execution_count": 14,
     "metadata": {},
     "output_type": "execute_result"
    }
   ],
   "source": [
    "df2.offense_category.value_counts()"
   ]
  },
  {
   "cell_type": "code",
   "execution_count": 15,
   "metadata": {},
   "outputs": [],
   "source": [
    "df2.offense_category = df2.offense_category.replace(to_replace ='AGGRAVATED ASSAULT', value =  'AGGRAVATED_ASSAULT')"
   ]
  },
  {
   "cell_type": "code",
   "execution_count": 87,
   "metadata": {},
   "outputs": [],
   "source": [
    "df2.rename(columns = {'AGGRAVATED ASSAULT': 'AGGRAVATED_ASSAULT'}, inplace = True)"
   ]
  },
  {
   "cell_type": "code",
   "execution_count": 16,
   "metadata": {},
   "outputs": [],
   "source": [
    "df2.offense_category.replace(to_replace= 'AGG ASSAULT', value = 'AGGRAVATED_ASSAULT', inplace = True)"
   ]
  },
  {
   "cell_type": "code",
   "execution_count": 17,
   "metadata": {},
   "outputs": [
    {
     "data": {
      "text/plain": [
       "AGGRAVATED_ASSAULT                               300676\n",
       "AGG ASSAULT - OTHER WEAPON                        64534\n",
       "HOMICIDE                                          20360\n",
       "AGG ASSAULT - FIREARM - DISCHARGE UNSPECIFIED      8999\n",
       "AGG ASSAULT - SHOOTING - NON-FATAL                 7426\n",
       "MURDER                                             5609\n",
       "AGG ASSAULT - SHOOTING - HIT UNSPECIFIED           5589\n",
       "AGG ASSAULT - UNSPECIFIED WEAPON                   4030\n",
       "NON-FATAL SHOOTING                                 3755\n",
       "NON FATAL SHOOTING                                 3621\n",
       "AGG ASSAULT - SHOOTING - NO HIT                    3076\n",
       "HOMICIDE - CRIMINAL - SHOOTING - FATAL             1730\n",
       "NON-FATAL-SHOOTING                                  908\n",
       "HOMICIDE - CRIMINAL - OTHER WEAPON                  608\n",
       "MURDER AND NON-NEGLIGENT MANSLAUGHTER               138\n",
       "HOMICIDE - CRIMINAL - UNSPECIFIED WEAPON              5\n",
       "Name: offense_category, dtype: int64"
      ]
     },
     "execution_count": 17,
     "metadata": {},
     "output_type": "execute_result"
    }
   ],
   "source": [
    "df2.offense_category.value_counts()"
   ]
  },
  {
   "cell_type": "code",
   "execution_count": 18,
   "metadata": {},
   "outputs": [],
   "source": [
    "df2.offense_category.replace(to_replace= ['AGG ASSAULT - OTHER WEAPON','AGG ASSAULT - FIREARM - DISCHARGE UNSPECIFIED'], value = 'AGGRAVATED_ASSAULT', inplace = True)\n"
   ]
  },
  {
   "cell_type": "code",
   "execution_count": 19,
   "metadata": {},
   "outputs": [
    {
     "data": {
      "text/plain": [
       "AGGRAVATED_ASSAULT                          374209\n",
       "HOMICIDE                                     20360\n",
       "AGG ASSAULT - SHOOTING - NON-FATAL            7426\n",
       "MURDER                                        5609\n",
       "AGG ASSAULT - SHOOTING - HIT UNSPECIFIED      5589\n",
       "AGG ASSAULT - UNSPECIFIED WEAPON              4030\n",
       "NON-FATAL SHOOTING                            3755\n",
       "NON FATAL SHOOTING                            3621\n",
       "AGG ASSAULT - SHOOTING - NO HIT               3076\n",
       "HOMICIDE - CRIMINAL - SHOOTING - FATAL        1730\n",
       "NON-FATAL-SHOOTING                             908\n",
       "HOMICIDE - CRIMINAL - OTHER WEAPON             608\n",
       "MURDER AND NON-NEGLIGENT MANSLAUGHTER          138\n",
       "HOMICIDE - CRIMINAL - UNSPECIFIED WEAPON         5\n",
       "Name: offense_category, dtype: int64"
      ]
     },
     "execution_count": 19,
     "metadata": {},
     "output_type": "execute_result"
    }
   ],
   "source": [
    "df2.offense_category.value_counts()"
   ]
  },
  {
   "cell_type": "code",
   "execution_count": 20,
   "metadata": {},
   "outputs": [],
   "source": [
    "df2.offense_category.replace(to_replace= ['AGG ASSAULT - SHOOTING - NON-FATAL','AGG ASSAULT - SHOOTING - HIT UNSPECIFIED','AGG ASSAULT - UNSPECIFIED WEAPON', 'AGG ASSAULT - SHOOTING - NO HIT'], value = 'AGGRAVATED_ASSAULT', inplace = True)\n"
   ]
  },
  {
   "cell_type": "code",
   "execution_count": 21,
   "metadata": {},
   "outputs": [
    {
     "data": {
      "text/plain": [
       "AGGRAVATED_ASSAULT                          394330\n",
       "HOMICIDE                                     20360\n",
       "MURDER                                        5609\n",
       "NON-FATAL SHOOTING                            3755\n",
       "NON FATAL SHOOTING                            3621\n",
       "HOMICIDE - CRIMINAL - SHOOTING - FATAL        1730\n",
       "NON-FATAL-SHOOTING                             908\n",
       "HOMICIDE - CRIMINAL - OTHER WEAPON             608\n",
       "MURDER AND NON-NEGLIGENT MANSLAUGHTER          138\n",
       "HOMICIDE - CRIMINAL - UNSPECIFIED WEAPON         5\n",
       "Name: offense_category, dtype: int64"
      ]
     },
     "execution_count": 21,
     "metadata": {},
     "output_type": "execute_result"
    }
   ],
   "source": [
    "df2.offense_category.value_counts()"
   ]
  },
  {
   "cell_type": "code",
   "execution_count": 22,
   "metadata": {},
   "outputs": [
    {
     "data": {
      "text/plain": [
       "array(['NON FATAL SHOOTING', 'HOMICIDE', 'NON-FATAL SHOOTING', 'MURDER',\n",
       "       'AGGRAVATED_ASSAULT', 'MURDER AND NON-NEGLIGENT MANSLAUGHTER',\n",
       "       'HOMICIDE - CRIMINAL - SHOOTING - FATAL',\n",
       "       'HOMICIDE - CRIMINAL - OTHER WEAPON',\n",
       "       'HOMICIDE - CRIMINAL - UNSPECIFIED WEAPON', 'NON-FATAL-SHOOTING'],\n",
       "      dtype=object)"
      ]
     },
     "execution_count": 22,
     "metadata": {},
     "output_type": "execute_result"
    }
   ],
   "source": [
    "df2.offense_category.dropna(inplace = True)\n",
    "df2.offense_category.unique()"
   ]
  },
  {
   "cell_type": "code",
   "execution_count": 28,
   "metadata": {},
   "outputs": [
    {
     "data": {
      "text/plain": [
       "AGGRAVATED_ASSAULT    394330\n",
       "HOMICIDE               28450\n",
       "NON_FATAL_SHOOTING      8284\n",
       "Name: offense_category, dtype: int64"
      ]
     },
     "execution_count": 28,
     "metadata": {},
     "output_type": "execute_result"
    }
   ],
   "source": [
    "df2.offense_category.value_counts()"
   ]
  },
  {
   "cell_type": "code",
   "execution_count": 29,
   "metadata": {},
   "outputs": [
    {
     "data": {
      "text/plain": [
       "array(['NON_FATAL_SHOOTING', 'HOMICIDE', 'AGGRAVATED_ASSAULT'],\n",
       "      dtype=object)"
      ]
     },
     "execution_count": 29,
     "metadata": {},
     "output_type": "execute_result"
    }
   ],
   "source": [
    "df2.offense_category.unique()"
   ]
  },
  {
   "cell_type": "code",
   "execution_count": 25,
   "metadata": {},
   "outputs": [],
   "source": [
    "df2.offense_category.replace(to_replace= ['NON-FATAL SHOOTING','NON FATAL SHOOTING','NON-FATAL-SHOOTING'], value = 'NON_FATAL_SHOOTING', inplace = True)"
   ]
  },
  {
   "cell_type": "code",
   "execution_count": 27,
   "metadata": {},
   "outputs": [],
   "source": [
    "df2.offense_category.replace(to_replace= ['MURDER','HOMICIDE - CRIMINAL - SHOOTING - FATAL','HOMICIDE - CRIMINAL - OTHER WEAPON','MURDER AND NON-NEGLIGENT MANSLAUGHTER','HOMICIDE - CRIMINAL - UNSPECIFIED WEAPON'], value = 'HOMICIDE', inplace = True)"
   ]
  },
  {
   "cell_type": "code",
   "execution_count": 30,
   "metadata": {},
   "outputs": [
    {
     "data": {
      "text/html": [
       "<div>\n",
       "<style scoped>\n",
       "    .dataframe tbody tr th:only-of-type {\n",
       "        vertical-align: middle;\n",
       "    }\n",
       "\n",
       "    .dataframe tbody tr th {\n",
       "        vertical-align: top;\n",
       "    }\n",
       "\n",
       "    .dataframe thead th {\n",
       "        text-align: right;\n",
       "    }\n",
       "</style>\n",
       "<table border=\"1\" class=\"dataframe\">\n",
       "  <thead>\n",
       "    <tr style=\"text-align: right;\">\n",
       "      <th></th>\n",
       "      <th>source</th>\n",
       "      <th>occurred_date</th>\n",
       "      <th>offense_category</th>\n",
       "      <th>firearm_ind</th>\n",
       "      <th>offense_group</th>\n",
       "      <th>domestic_violence_ind</th>\n",
       "      <th>family_violence_ind</th>\n",
       "      <th>gang_activity_ind</th>\n",
       "      <th>inside_outside</th>\n",
       "      <th>victim_age</th>\n",
       "      <th>victim_race</th>\n",
       "      <th>victim_sex</th>\n",
       "      <th>arrest_ind</th>\n",
       "    </tr>\n",
       "  </thead>\n",
       "  <tbody>\n",
       "    <tr>\n",
       "      <td>0</td>\n",
       "      <td>BALTIMORE-MAIN</td>\n",
       "      <td>2017-07-26</td>\n",
       "      <td>NON FATAL SHOOTING</td>\n",
       "      <td>Y</td>\n",
       "      <td>Non-Fatal Shooting</td>\n",
       "      <td>NaN</td>\n",
       "      <td>NaN</td>\n",
       "      <td>NaN</td>\n",
       "      <td>NaN</td>\n",
       "      <td>22</td>\n",
       "      <td>BLACK</td>\n",
       "      <td>MALE</td>\n",
       "      <td>NaN</td>\n",
       "    </tr>\n",
       "    <tr>\n",
       "      <td>1</td>\n",
       "      <td>BALTIMORE-MAIN</td>\n",
       "      <td>2017-07-26</td>\n",
       "      <td>NON FATAL SHOOTING</td>\n",
       "      <td>Y</td>\n",
       "      <td>Non-Fatal Shooting</td>\n",
       "      <td>NaN</td>\n",
       "      <td>NaN</td>\n",
       "      <td>NaN</td>\n",
       "      <td>NaN</td>\n",
       "      <td>53</td>\n",
       "      <td>BLACK</td>\n",
       "      <td>FEMALE</td>\n",
       "      <td>NaN</td>\n",
       "    </tr>\n",
       "    <tr>\n",
       "      <td>2</td>\n",
       "      <td>BALTIMORE-MAIN</td>\n",
       "      <td>2017-07-25</td>\n",
       "      <td>NON FATAL SHOOTING</td>\n",
       "      <td>Y</td>\n",
       "      <td>Non-Fatal Shooting</td>\n",
       "      <td>NaN</td>\n",
       "      <td>NaN</td>\n",
       "      <td>NaN</td>\n",
       "      <td>NaN</td>\n",
       "      <td>19</td>\n",
       "      <td>BLACK</td>\n",
       "      <td>MALE</td>\n",
       "      <td>NaN</td>\n",
       "    </tr>\n",
       "    <tr>\n",
       "      <td>3</td>\n",
       "      <td>BALTIMORE-MAIN</td>\n",
       "      <td>2017-07-25</td>\n",
       "      <td>NON FATAL SHOOTING</td>\n",
       "      <td>Y</td>\n",
       "      <td>Non-Fatal Shooting</td>\n",
       "      <td>NaN</td>\n",
       "      <td>NaN</td>\n",
       "      <td>NaN</td>\n",
       "      <td>NaN</td>\n",
       "      <td>29</td>\n",
       "      <td>BLACK</td>\n",
       "      <td>MALE</td>\n",
       "      <td>NaN</td>\n",
       "    </tr>\n",
       "    <tr>\n",
       "      <td>4</td>\n",
       "      <td>BALTIMORE-MAIN</td>\n",
       "      <td>2017-07-24</td>\n",
       "      <td>NON FATAL SHOOTING</td>\n",
       "      <td>Y</td>\n",
       "      <td>Non-Fatal Shooting</td>\n",
       "      <td>NaN</td>\n",
       "      <td>NaN</td>\n",
       "      <td>NaN</td>\n",
       "      <td>NaN</td>\n",
       "      <td>22</td>\n",
       "      <td>BLACK</td>\n",
       "      <td>MALE</td>\n",
       "      <td>NaN</td>\n",
       "    </tr>\n",
       "  </tbody>\n",
       "</table>\n",
       "</div>"
      ],
      "text/plain": [
       "           source occurred_date    offense_category firearm_ind  \\\n",
       "0  BALTIMORE-MAIN    2017-07-26  NON FATAL SHOOTING           Y   \n",
       "1  BALTIMORE-MAIN    2017-07-26  NON FATAL SHOOTING           Y   \n",
       "2  BALTIMORE-MAIN    2017-07-25  NON FATAL SHOOTING           Y   \n",
       "3  BALTIMORE-MAIN    2017-07-25  NON FATAL SHOOTING           Y   \n",
       "4  BALTIMORE-MAIN    2017-07-24  NON FATAL SHOOTING           Y   \n",
       "\n",
       "        offense_group domestic_violence_ind family_violence_ind  \\\n",
       "0  Non-Fatal Shooting                   NaN                 NaN   \n",
       "1  Non-Fatal Shooting                   NaN                 NaN   \n",
       "2  Non-Fatal Shooting                   NaN                 NaN   \n",
       "3  Non-Fatal Shooting                   NaN                 NaN   \n",
       "4  Non-Fatal Shooting                   NaN                 NaN   \n",
       "\n",
       "  gang_activity_ind inside_outside victim_age victim_race victim_sex  \\\n",
       "0               NaN            NaN         22       BLACK       MALE   \n",
       "1               NaN            NaN         53       BLACK     FEMALE   \n",
       "2               NaN            NaN         19       BLACK       MALE   \n",
       "3               NaN            NaN         29       BLACK       MALE   \n",
       "4               NaN            NaN         22       BLACK       MALE   \n",
       "\n",
       "  arrest_ind  \n",
       "0        NaN  \n",
       "1        NaN  \n",
       "2        NaN  \n",
       "3        NaN  \n",
       "4        NaN  "
      ]
     },
     "execution_count": 30,
     "metadata": {},
     "output_type": "execute_result"
    }
   ],
   "source": [
    "df2.head()"
   ]
  },
  {
   "cell_type": "code",
   "execution_count": 33,
   "metadata": {},
   "outputs": [
    {
     "data": {
      "text/plain": [
       "array(['Y', 'N', 'OTHER'], dtype=object)"
      ]
     },
     "execution_count": 33,
     "metadata": {},
     "output_type": "execute_result"
    }
   ],
   "source": [
    "df2.firearm_ind.unique()"
   ]
  },
  {
   "cell_type": "code",
   "execution_count": 32,
   "metadata": {},
   "outputs": [],
   "source": [
    "df2.firearm_ind.replace(to_replace= ['UNCLEAR','MISSING','UNKNOWN', 'UNSPECIFIED'], value = 'OTHER', inplace = True)"
   ]
  },
  {
   "cell_type": "code",
   "execution_count": 38,
   "metadata": {},
   "outputs": [
    {
     "data": {
      "text/plain": [
       "array(['Non-Fatal Shooting', 'Homicide', 'Assault'], dtype=object)"
      ]
     },
     "execution_count": 38,
     "metadata": {},
     "output_type": "execute_result"
    }
   ],
   "source": [
    "df2.offense_group.unique()"
   ]
  },
  {
   "cell_type": "code",
   "execution_count": 35,
   "metadata": {},
   "outputs": [],
   "source": [
    "df2.offense_group.replace(to_replace= ['Homicide - Gun','Homicide - Other Weapon','Homicide - Weapon Unspecified'], value = 'Homicide', inplace = True)"
   ]
  },
  {
   "cell_type": "code",
   "execution_count": 37,
   "metadata": {},
   "outputs": [],
   "source": [
    "df2.offense_group.replace(to_replace= ['Agg Assault - Gun','Agg Assault - Other Weapon','Agg Assault - Weapon Unspecified'], value = 'Assault', inplace = True)"
   ]
  },
  {
   "cell_type": "code",
   "execution_count": 40,
   "metadata": {},
   "outputs": [
    {
     "data": {
      "text/plain": [
       "array([nan, 'MISSING-JOIN', 'N', 'Y', 'MISSING', 'UNCLEAR'], dtype=object)"
      ]
     },
     "execution_count": 40,
     "metadata": {},
     "output_type": "execute_result"
    }
   ],
   "source": [
    "df2.domestic_violence_ind.unique()"
   ]
  },
  {
   "cell_type": "code",
   "execution_count": 43,
   "metadata": {},
   "outputs": [],
   "source": [
    "df2.domestic_violence_ind.dropna(inplace= True)"
   ]
  },
  {
   "cell_type": "code",
   "execution_count": 48,
   "metadata": {},
   "outputs": [
    {
     "data": {
      "text/plain": [
       "array(['MISSING-JOIN', 'N', 'Y', 'MISSING', 'UNCLEAR'], dtype=object)"
      ]
     },
     "execution_count": 48,
     "metadata": {},
     "output_type": "execute_result"
    }
   ],
   "source": [
    "df2.domestic_violence_ind.unique()"
   ]
  },
  {
   "cell_type": "code",
   "execution_count": 49,
   "metadata": {},
   "outputs": [],
   "source": [
    "df2.offense_group.replace(to_replace= ['MISSING-JOIN','MISSING', 'UNCLEAR'], value = 'DROP', inplace = True)"
   ]
  },
  {
   "cell_type": "code",
   "execution_count": 89,
   "metadata": {},
   "outputs": [
    {
     "data": {
      "text/plain": [
       "N          369322\n",
       "Y           98072\n",
       "combine      2069\n",
       "Name: domestic_violence_ind, dtype: int64"
      ]
     },
     "execution_count": 89,
     "metadata": {},
     "output_type": "execute_result"
    }
   ],
   "source": [
    "df2.domestic_violence_ind.value_counts()\n",
    "#Need to figure out how to drop Labels other than 'N' and 'Y'"
   ]
  },
  {
   "cell_type": "code",
   "execution_count": 88,
   "metadata": {},
   "outputs": [],
   "source": [
    "df2.domestic_violence_ind.replace(to_replace= ['MISSING-JOIN','MISSING', 'UNCLEAR'], value = 'combine', inplace = True)"
   ]
  },
  {
   "cell_type": "code",
   "execution_count": 58,
   "metadata": {},
   "outputs": [
    {
     "ename": "KeyError",
     "evalue": "'MISSING-JOIN'",
     "output_type": "error",
     "traceback": [
      "\u001b[1;31m---------------------------------------------------------------------------\u001b[0m",
      "\u001b[1;31mKeyError\u001b[0m                                  Traceback (most recent call last)",
      "\u001b[1;32m<ipython-input-58-504b04f70170>\u001b[0m in \u001b[0;36m<module>\u001b[1;34m\u001b[0m\n\u001b[1;32m----> 1\u001b[1;33m \u001b[0mdf2\u001b[0m\u001b[1;33m.\u001b[0m\u001b[0mdomestic_violence_ind\u001b[0m\u001b[1;33m.\u001b[0m\u001b[0mdrop\u001b[0m\u001b[1;33m(\u001b[0m\u001b[0mdf2\u001b[0m\u001b[1;33m.\u001b[0m\u001b[0mdomestic_violence_ind\u001b[0m\u001b[1;33m[\u001b[0m\u001b[1;34m'MISSING-JOIN'\u001b[0m\u001b[1;33m]\u001b[0m\u001b[1;33m,\u001b[0m \u001b[0maxis\u001b[0m \u001b[1;33m=\u001b[0m \u001b[1;36m0\u001b[0m\u001b[1;33m)\u001b[0m\u001b[1;33m\u001b[0m\u001b[1;33m\u001b[0m\u001b[0m\n\u001b[0m",
      "\u001b[1;32m~\\Anaconda3\\lib\\site-packages\\pandas\\core\\series.py\u001b[0m in \u001b[0;36m__getitem__\u001b[1;34m(self, key)\u001b[0m\n\u001b[0;32m   1066\u001b[0m         \u001b[0mkey\u001b[0m \u001b[1;33m=\u001b[0m \u001b[0mcom\u001b[0m\u001b[1;33m.\u001b[0m\u001b[0mapply_if_callable\u001b[0m\u001b[1;33m(\u001b[0m\u001b[0mkey\u001b[0m\u001b[1;33m,\u001b[0m \u001b[0mself\u001b[0m\u001b[1;33m)\u001b[0m\u001b[1;33m\u001b[0m\u001b[1;33m\u001b[0m\u001b[0m\n\u001b[0;32m   1067\u001b[0m         \u001b[1;32mtry\u001b[0m\u001b[1;33m:\u001b[0m\u001b[1;33m\u001b[0m\u001b[1;33m\u001b[0m\u001b[0m\n\u001b[1;32m-> 1068\u001b[1;33m             \u001b[0mresult\u001b[0m \u001b[1;33m=\u001b[0m \u001b[0mself\u001b[0m\u001b[1;33m.\u001b[0m\u001b[0mindex\u001b[0m\u001b[1;33m.\u001b[0m\u001b[0mget_value\u001b[0m\u001b[1;33m(\u001b[0m\u001b[0mself\u001b[0m\u001b[1;33m,\u001b[0m \u001b[0mkey\u001b[0m\u001b[1;33m)\u001b[0m\u001b[1;33m\u001b[0m\u001b[1;33m\u001b[0m\u001b[0m\n\u001b[0m\u001b[0;32m   1069\u001b[0m \u001b[1;33m\u001b[0m\u001b[0m\n\u001b[0;32m   1070\u001b[0m             \u001b[1;32mif\u001b[0m \u001b[1;32mnot\u001b[0m \u001b[0mis_scalar\u001b[0m\u001b[1;33m(\u001b[0m\u001b[0mresult\u001b[0m\u001b[1;33m)\u001b[0m\u001b[1;33m:\u001b[0m\u001b[1;33m\u001b[0m\u001b[1;33m\u001b[0m\u001b[0m\n",
      "\u001b[1;32m~\\Anaconda3\\lib\\site-packages\\pandas\\core\\indexes\\base.py\u001b[0m in \u001b[0;36mget_value\u001b[1;34m(self, series, key)\u001b[0m\n\u001b[0;32m   4728\u001b[0m         \u001b[0mk\u001b[0m \u001b[1;33m=\u001b[0m \u001b[0mself\u001b[0m\u001b[1;33m.\u001b[0m\u001b[0m_convert_scalar_indexer\u001b[0m\u001b[1;33m(\u001b[0m\u001b[0mk\u001b[0m\u001b[1;33m,\u001b[0m \u001b[0mkind\u001b[0m\u001b[1;33m=\u001b[0m\u001b[1;34m\"getitem\"\u001b[0m\u001b[1;33m)\u001b[0m\u001b[1;33m\u001b[0m\u001b[1;33m\u001b[0m\u001b[0m\n\u001b[0;32m   4729\u001b[0m         \u001b[1;32mtry\u001b[0m\u001b[1;33m:\u001b[0m\u001b[1;33m\u001b[0m\u001b[1;33m\u001b[0m\u001b[0m\n\u001b[1;32m-> 4730\u001b[1;33m             \u001b[1;32mreturn\u001b[0m \u001b[0mself\u001b[0m\u001b[1;33m.\u001b[0m\u001b[0m_engine\u001b[0m\u001b[1;33m.\u001b[0m\u001b[0mget_value\u001b[0m\u001b[1;33m(\u001b[0m\u001b[0ms\u001b[0m\u001b[1;33m,\u001b[0m \u001b[0mk\u001b[0m\u001b[1;33m,\u001b[0m \u001b[0mtz\u001b[0m\u001b[1;33m=\u001b[0m\u001b[0mgetattr\u001b[0m\u001b[1;33m(\u001b[0m\u001b[0mseries\u001b[0m\u001b[1;33m.\u001b[0m\u001b[0mdtype\u001b[0m\u001b[1;33m,\u001b[0m \u001b[1;34m\"tz\"\u001b[0m\u001b[1;33m,\u001b[0m \u001b[1;32mNone\u001b[0m\u001b[1;33m)\u001b[0m\u001b[1;33m)\u001b[0m\u001b[1;33m\u001b[0m\u001b[1;33m\u001b[0m\u001b[0m\n\u001b[0m\u001b[0;32m   4731\u001b[0m         \u001b[1;32mexcept\u001b[0m \u001b[0mKeyError\u001b[0m \u001b[1;32mas\u001b[0m \u001b[0me1\u001b[0m\u001b[1;33m:\u001b[0m\u001b[1;33m\u001b[0m\u001b[1;33m\u001b[0m\u001b[0m\n\u001b[0;32m   4732\u001b[0m             \u001b[1;32mif\u001b[0m \u001b[0mlen\u001b[0m\u001b[1;33m(\u001b[0m\u001b[0mself\u001b[0m\u001b[1;33m)\u001b[0m \u001b[1;33m>\u001b[0m \u001b[1;36m0\u001b[0m \u001b[1;32mand\u001b[0m \u001b[1;33m(\u001b[0m\u001b[0mself\u001b[0m\u001b[1;33m.\u001b[0m\u001b[0mholds_integer\u001b[0m\u001b[1;33m(\u001b[0m\u001b[1;33m)\u001b[0m \u001b[1;32mor\u001b[0m \u001b[0mself\u001b[0m\u001b[1;33m.\u001b[0m\u001b[0mis_boolean\u001b[0m\u001b[1;33m(\u001b[0m\u001b[1;33m)\u001b[0m\u001b[1;33m)\u001b[0m\u001b[1;33m:\u001b[0m\u001b[1;33m\u001b[0m\u001b[1;33m\u001b[0m\u001b[0m\n",
      "\u001b[1;32mpandas\\_libs\\index.pyx\u001b[0m in \u001b[0;36mpandas._libs.index.IndexEngine.get_value\u001b[1;34m()\u001b[0m\n",
      "\u001b[1;32mpandas\\_libs\\index.pyx\u001b[0m in \u001b[0;36mpandas._libs.index.IndexEngine.get_value\u001b[1;34m()\u001b[0m\n",
      "\u001b[1;32mpandas\\_libs\\index.pyx\u001b[0m in \u001b[0;36mpandas._libs.index.IndexEngine.get_loc\u001b[1;34m()\u001b[0m\n",
      "\u001b[1;32mpandas\\_libs\\index_class_helper.pxi\u001b[0m in \u001b[0;36mpandas._libs.index.Int64Engine._check_type\u001b[1;34m()\u001b[0m\n",
      "\u001b[1;31mKeyError\u001b[0m: 'MISSING-JOIN'"
     ]
    }
   ],
   "source": [
    "df2.domestic_violence_ind.drop(df2.domestic_violence_ind['MISSING-JOIN'], axis = 0)"
   ]
  },
  {
   "cell_type": "code",
   "execution_count": 97,
   "metadata": {},
   "outputs": [
    {
     "data": {
      "text/plain": [
       "N          41224\n",
       "Y           3608\n",
       "combine      200\n",
       "Name: family_violence_ind, dtype: int64"
      ]
     },
     "execution_count": 97,
     "metadata": {},
     "output_type": "execute_result"
    }
   ],
   "source": [
    "df2.family_violence_ind.value_counts()"
   ]
  },
  {
   "cell_type": "code",
   "execution_count": 90,
   "metadata": {},
   "outputs": [],
   "source": [
    "df2.family_violence_ind.replace(to_replace= ['MISSING', 'UNCLEAR'], value = 'combine', inplace = True)"
   ]
  },
  {
   "cell_type": "code",
   "execution_count": 96,
   "metadata": {},
   "outputs": [
    {
     "name": "stderr",
     "output_type": "stream",
     "text": [
      "C:\\Users\\Akshay Indusekar\\Anaconda3\\lib\\site-packages\\ipykernel_launcher.py:1: UserWarning: Boolean Series key will be reindexed to match DataFrame index.\n",
      "  \"\"\"Entry point for launching an IPython kernel.\n"
     ]
    },
    {
     "ename": "IndexingError",
     "evalue": "Unalignable boolean Series provided as indexer (index of the boolean Series and of the indexed object do not match).",
     "output_type": "error",
     "traceback": [
      "\u001b[1;31m---------------------------------------------------------------------------\u001b[0m",
      "\u001b[1;31mIndexingError\u001b[0m                             Traceback (most recent call last)",
      "\u001b[1;32m<ipython-input-96-b87ed7d7c8e7>\u001b[0m in \u001b[0;36m<module>\u001b[1;34m\u001b[0m\n\u001b[1;32m----> 1\u001b[1;33m \u001b[0mdf2\u001b[0m\u001b[1;33m=\u001b[0m \u001b[0mdf2\u001b[0m\u001b[1;33m[\u001b[0m\u001b[0mdf2\u001b[0m\u001b[1;33m.\u001b[0m\u001b[0mfamily_violence_ind\u001b[0m \u001b[1;33m!=\u001b[0m \u001b[1;34m'combine'\u001b[0m\u001b[1;33m]\u001b[0m\u001b[1;33m\u001b[0m\u001b[1;33m\u001b[0m\u001b[0m\n\u001b[0m",
      "\u001b[1;32m~\\Anaconda3\\lib\\site-packages\\pandas\\core\\frame.py\u001b[0m in \u001b[0;36m__getitem__\u001b[1;34m(self, key)\u001b[0m\n\u001b[0;32m   2969\u001b[0m         \u001b[1;31m# Do we have a (boolean) 1d indexer?\u001b[0m\u001b[1;33m\u001b[0m\u001b[1;33m\u001b[0m\u001b[1;33m\u001b[0m\u001b[0m\n\u001b[0;32m   2970\u001b[0m         \u001b[1;32mif\u001b[0m \u001b[0mcom\u001b[0m\u001b[1;33m.\u001b[0m\u001b[0mis_bool_indexer\u001b[0m\u001b[1;33m(\u001b[0m\u001b[0mkey\u001b[0m\u001b[1;33m)\u001b[0m\u001b[1;33m:\u001b[0m\u001b[1;33m\u001b[0m\u001b[1;33m\u001b[0m\u001b[0m\n\u001b[1;32m-> 2971\u001b[1;33m             \u001b[1;32mreturn\u001b[0m \u001b[0mself\u001b[0m\u001b[1;33m.\u001b[0m\u001b[0m_getitem_bool_array\u001b[0m\u001b[1;33m(\u001b[0m\u001b[0mkey\u001b[0m\u001b[1;33m)\u001b[0m\u001b[1;33m\u001b[0m\u001b[1;33m\u001b[0m\u001b[0m\n\u001b[0m\u001b[0;32m   2972\u001b[0m \u001b[1;33m\u001b[0m\u001b[0m\n\u001b[0;32m   2973\u001b[0m         \u001b[1;31m# We are left with two options: a single key, and a collection of keys,\u001b[0m\u001b[1;33m\u001b[0m\u001b[1;33m\u001b[0m\u001b[1;33m\u001b[0m\u001b[0m\n",
      "\u001b[1;32m~\\Anaconda3\\lib\\site-packages\\pandas\\core\\frame.py\u001b[0m in \u001b[0;36m_getitem_bool_array\u001b[1;34m(self, key)\u001b[0m\n\u001b[0;32m   3021\u001b[0m         \u001b[1;31m# check_bool_indexer will throw exception if Series key cannot\u001b[0m\u001b[1;33m\u001b[0m\u001b[1;33m\u001b[0m\u001b[1;33m\u001b[0m\u001b[0m\n\u001b[0;32m   3022\u001b[0m         \u001b[1;31m# be reindexed to match DataFrame rows\u001b[0m\u001b[1;33m\u001b[0m\u001b[1;33m\u001b[0m\u001b[1;33m\u001b[0m\u001b[0m\n\u001b[1;32m-> 3023\u001b[1;33m         \u001b[0mkey\u001b[0m \u001b[1;33m=\u001b[0m \u001b[0mcheck_bool_indexer\u001b[0m\u001b[1;33m(\u001b[0m\u001b[0mself\u001b[0m\u001b[1;33m.\u001b[0m\u001b[0mindex\u001b[0m\u001b[1;33m,\u001b[0m \u001b[0mkey\u001b[0m\u001b[1;33m)\u001b[0m\u001b[1;33m\u001b[0m\u001b[1;33m\u001b[0m\u001b[0m\n\u001b[0m\u001b[0;32m   3024\u001b[0m         \u001b[0mindexer\u001b[0m \u001b[1;33m=\u001b[0m \u001b[0mkey\u001b[0m\u001b[1;33m.\u001b[0m\u001b[0mnonzero\u001b[0m\u001b[1;33m(\u001b[0m\u001b[1;33m)\u001b[0m\u001b[1;33m[\u001b[0m\u001b[1;36m0\u001b[0m\u001b[1;33m]\u001b[0m\u001b[1;33m\u001b[0m\u001b[1;33m\u001b[0m\u001b[0m\n\u001b[0;32m   3025\u001b[0m         \u001b[1;32mreturn\u001b[0m \u001b[0mself\u001b[0m\u001b[1;33m.\u001b[0m\u001b[0mtake\u001b[0m\u001b[1;33m(\u001b[0m\u001b[0mindexer\u001b[0m\u001b[1;33m,\u001b[0m \u001b[0maxis\u001b[0m\u001b[1;33m=\u001b[0m\u001b[1;36m0\u001b[0m\u001b[1;33m)\u001b[0m\u001b[1;33m\u001b[0m\u001b[1;33m\u001b[0m\u001b[0m\n",
      "\u001b[1;32m~\\Anaconda3\\lib\\site-packages\\pandas\\core\\indexing.py\u001b[0m in \u001b[0;36mcheck_bool_indexer\u001b[1;34m(index, key)\u001b[0m\n\u001b[0;32m   2409\u001b[0m         \u001b[1;32mif\u001b[0m \u001b[0mmask\u001b[0m\u001b[1;33m.\u001b[0m\u001b[0many\u001b[0m\u001b[1;33m(\u001b[0m\u001b[1;33m)\u001b[0m\u001b[1;33m:\u001b[0m\u001b[1;33m\u001b[0m\u001b[1;33m\u001b[0m\u001b[0m\n\u001b[0;32m   2410\u001b[0m             raise IndexingError(\n\u001b[1;32m-> 2411\u001b[1;33m                 \u001b[1;34m\"Unalignable boolean Series provided as \"\u001b[0m\u001b[1;33m\u001b[0m\u001b[1;33m\u001b[0m\u001b[0m\n\u001b[0m\u001b[0;32m   2412\u001b[0m                 \u001b[1;34m\"indexer (index of the boolean Series and of \"\u001b[0m\u001b[1;33m\u001b[0m\u001b[1;33m\u001b[0m\u001b[0m\n\u001b[0;32m   2413\u001b[0m                 \u001b[1;34m\"the indexed object do not match).\"\u001b[0m\u001b[1;33m\u001b[0m\u001b[1;33m\u001b[0m\u001b[0m\n",
      "\u001b[1;31mIndexingError\u001b[0m: Unalignable boolean Series provided as indexer (index of the boolean Series and of the indexed object do not match)."
     ]
    }
   ],
   "source": [
    "df2= df2[df2.family_violence_ind != 'combine']"
   ]
  },
  {
   "cell_type": "code",
   "execution_count": 62,
   "metadata": {},
   "outputs": [
    {
     "ename": "KeyError",
     "evalue": "\"['MISSING'] not found in axis\"",
     "output_type": "error",
     "traceback": [
      "\u001b[1;31m---------------------------------------------------------------------------\u001b[0m",
      "\u001b[1;31mKeyError\u001b[0m                                  Traceback (most recent call last)",
      "\u001b[1;32m<ipython-input-62-8ba8a683d4b9>\u001b[0m in \u001b[0;36m<module>\u001b[1;34m\u001b[0m\n\u001b[1;32m----> 1\u001b[1;33m \u001b[0mdf2\u001b[0m\u001b[1;33m.\u001b[0m\u001b[0mfamily_violence_ind\u001b[0m\u001b[1;33m.\u001b[0m\u001b[0mdrop\u001b[0m\u001b[1;33m(\u001b[0m\u001b[1;34m'MISSING'\u001b[0m\u001b[1;33m,\u001b[0m \u001b[0maxis\u001b[0m \u001b[1;33m=\u001b[0m \u001b[1;36m0\u001b[0m\u001b[1;33m)\u001b[0m\u001b[1;33m\u001b[0m\u001b[1;33m\u001b[0m\u001b[0m\n\u001b[0m",
      "\u001b[1;32m~\\Anaconda3\\lib\\site-packages\\pandas\\core\\series.py\u001b[0m in \u001b[0;36mdrop\u001b[1;34m(self, labels, axis, index, columns, level, inplace, errors)\u001b[0m\n\u001b[0;32m   4321\u001b[0m             \u001b[0mlevel\u001b[0m\u001b[1;33m=\u001b[0m\u001b[0mlevel\u001b[0m\u001b[1;33m,\u001b[0m\u001b[1;33m\u001b[0m\u001b[1;33m\u001b[0m\u001b[0m\n\u001b[0;32m   4322\u001b[0m             \u001b[0minplace\u001b[0m\u001b[1;33m=\u001b[0m\u001b[0minplace\u001b[0m\u001b[1;33m,\u001b[0m\u001b[1;33m\u001b[0m\u001b[1;33m\u001b[0m\u001b[0m\n\u001b[1;32m-> 4323\u001b[1;33m             \u001b[0merrors\u001b[0m\u001b[1;33m=\u001b[0m\u001b[0merrors\u001b[0m\u001b[1;33m,\u001b[0m\u001b[1;33m\u001b[0m\u001b[1;33m\u001b[0m\u001b[0m\n\u001b[0m\u001b[0;32m   4324\u001b[0m         )\n\u001b[0;32m   4325\u001b[0m \u001b[1;33m\u001b[0m\u001b[0m\n",
      "\u001b[1;32m~\\Anaconda3\\lib\\site-packages\\pandas\\core\\generic.py\u001b[0m in \u001b[0;36mdrop\u001b[1;34m(self, labels, axis, index, columns, level, inplace, errors)\u001b[0m\n\u001b[0;32m   3912\u001b[0m         \u001b[1;32mfor\u001b[0m \u001b[0maxis\u001b[0m\u001b[1;33m,\u001b[0m \u001b[0mlabels\u001b[0m \u001b[1;32min\u001b[0m \u001b[0maxes\u001b[0m\u001b[1;33m.\u001b[0m\u001b[0mitems\u001b[0m\u001b[1;33m(\u001b[0m\u001b[1;33m)\u001b[0m\u001b[1;33m:\u001b[0m\u001b[1;33m\u001b[0m\u001b[1;33m\u001b[0m\u001b[0m\n\u001b[0;32m   3913\u001b[0m             \u001b[1;32mif\u001b[0m \u001b[0mlabels\u001b[0m \u001b[1;32mis\u001b[0m \u001b[1;32mnot\u001b[0m \u001b[1;32mNone\u001b[0m\u001b[1;33m:\u001b[0m\u001b[1;33m\u001b[0m\u001b[1;33m\u001b[0m\u001b[0m\n\u001b[1;32m-> 3914\u001b[1;33m                 \u001b[0mobj\u001b[0m \u001b[1;33m=\u001b[0m \u001b[0mobj\u001b[0m\u001b[1;33m.\u001b[0m\u001b[0m_drop_axis\u001b[0m\u001b[1;33m(\u001b[0m\u001b[0mlabels\u001b[0m\u001b[1;33m,\u001b[0m \u001b[0maxis\u001b[0m\u001b[1;33m,\u001b[0m \u001b[0mlevel\u001b[0m\u001b[1;33m=\u001b[0m\u001b[0mlevel\u001b[0m\u001b[1;33m,\u001b[0m \u001b[0merrors\u001b[0m\u001b[1;33m=\u001b[0m\u001b[0merrors\u001b[0m\u001b[1;33m)\u001b[0m\u001b[1;33m\u001b[0m\u001b[1;33m\u001b[0m\u001b[0m\n\u001b[0m\u001b[0;32m   3915\u001b[0m \u001b[1;33m\u001b[0m\u001b[0m\n\u001b[0;32m   3916\u001b[0m         \u001b[1;32mif\u001b[0m \u001b[0minplace\u001b[0m\u001b[1;33m:\u001b[0m\u001b[1;33m\u001b[0m\u001b[1;33m\u001b[0m\u001b[0m\n",
      "\u001b[1;32m~\\Anaconda3\\lib\\site-packages\\pandas\\core\\generic.py\u001b[0m in \u001b[0;36m_drop_axis\u001b[1;34m(self, labels, axis, level, errors)\u001b[0m\n\u001b[0;32m   3944\u001b[0m                 \u001b[0mnew_axis\u001b[0m \u001b[1;33m=\u001b[0m \u001b[0maxis\u001b[0m\u001b[1;33m.\u001b[0m\u001b[0mdrop\u001b[0m\u001b[1;33m(\u001b[0m\u001b[0mlabels\u001b[0m\u001b[1;33m,\u001b[0m \u001b[0mlevel\u001b[0m\u001b[1;33m=\u001b[0m\u001b[0mlevel\u001b[0m\u001b[1;33m,\u001b[0m \u001b[0merrors\u001b[0m\u001b[1;33m=\u001b[0m\u001b[0merrors\u001b[0m\u001b[1;33m)\u001b[0m\u001b[1;33m\u001b[0m\u001b[1;33m\u001b[0m\u001b[0m\n\u001b[0;32m   3945\u001b[0m             \u001b[1;32melse\u001b[0m\u001b[1;33m:\u001b[0m\u001b[1;33m\u001b[0m\u001b[1;33m\u001b[0m\u001b[0m\n\u001b[1;32m-> 3946\u001b[1;33m                 \u001b[0mnew_axis\u001b[0m \u001b[1;33m=\u001b[0m \u001b[0maxis\u001b[0m\u001b[1;33m.\u001b[0m\u001b[0mdrop\u001b[0m\u001b[1;33m(\u001b[0m\u001b[0mlabels\u001b[0m\u001b[1;33m,\u001b[0m \u001b[0merrors\u001b[0m\u001b[1;33m=\u001b[0m\u001b[0merrors\u001b[0m\u001b[1;33m)\u001b[0m\u001b[1;33m\u001b[0m\u001b[1;33m\u001b[0m\u001b[0m\n\u001b[0m\u001b[0;32m   3947\u001b[0m             \u001b[0mresult\u001b[0m \u001b[1;33m=\u001b[0m \u001b[0mself\u001b[0m\u001b[1;33m.\u001b[0m\u001b[0mreindex\u001b[0m\u001b[1;33m(\u001b[0m\u001b[1;33m**\u001b[0m\u001b[1;33m{\u001b[0m\u001b[0maxis_name\u001b[0m\u001b[1;33m:\u001b[0m \u001b[0mnew_axis\u001b[0m\u001b[1;33m}\u001b[0m\u001b[1;33m)\u001b[0m\u001b[1;33m\u001b[0m\u001b[1;33m\u001b[0m\u001b[0m\n\u001b[0;32m   3948\u001b[0m \u001b[1;33m\u001b[0m\u001b[0m\n",
      "\u001b[1;32m~\\Anaconda3\\lib\\site-packages\\pandas\\core\\indexes\\base.py\u001b[0m in \u001b[0;36mdrop\u001b[1;34m(self, labels, errors)\u001b[0m\n\u001b[0;32m   5338\u001b[0m         \u001b[1;32mif\u001b[0m \u001b[0mmask\u001b[0m\u001b[1;33m.\u001b[0m\u001b[0many\u001b[0m\u001b[1;33m(\u001b[0m\u001b[1;33m)\u001b[0m\u001b[1;33m:\u001b[0m\u001b[1;33m\u001b[0m\u001b[1;33m\u001b[0m\u001b[0m\n\u001b[0;32m   5339\u001b[0m             \u001b[1;32mif\u001b[0m \u001b[0merrors\u001b[0m \u001b[1;33m!=\u001b[0m \u001b[1;34m\"ignore\"\u001b[0m\u001b[1;33m:\u001b[0m\u001b[1;33m\u001b[0m\u001b[1;33m\u001b[0m\u001b[0m\n\u001b[1;32m-> 5340\u001b[1;33m                 \u001b[1;32mraise\u001b[0m \u001b[0mKeyError\u001b[0m\u001b[1;33m(\u001b[0m\u001b[1;34m\"{} not found in axis\"\u001b[0m\u001b[1;33m.\u001b[0m\u001b[0mformat\u001b[0m\u001b[1;33m(\u001b[0m\u001b[0mlabels\u001b[0m\u001b[1;33m[\u001b[0m\u001b[0mmask\u001b[0m\u001b[1;33m]\u001b[0m\u001b[1;33m)\u001b[0m\u001b[1;33m)\u001b[0m\u001b[1;33m\u001b[0m\u001b[1;33m\u001b[0m\u001b[0m\n\u001b[0m\u001b[0;32m   5341\u001b[0m             \u001b[0mindexer\u001b[0m \u001b[1;33m=\u001b[0m \u001b[0mindexer\u001b[0m\u001b[1;33m[\u001b[0m\u001b[1;33m~\u001b[0m\u001b[0mmask\u001b[0m\u001b[1;33m]\u001b[0m\u001b[1;33m\u001b[0m\u001b[1;33m\u001b[0m\u001b[0m\n\u001b[0;32m   5342\u001b[0m         \u001b[1;32mreturn\u001b[0m \u001b[0mself\u001b[0m\u001b[1;33m.\u001b[0m\u001b[0mdelete\u001b[0m\u001b[1;33m(\u001b[0m\u001b[0mindexer\u001b[0m\u001b[1;33m)\u001b[0m\u001b[1;33m\u001b[0m\u001b[1;33m\u001b[0m\u001b[0m\n",
      "\u001b[1;31mKeyError\u001b[0m: \"['MISSING'] not found in axis\""
     ]
    }
   ],
   "source": [
    "df2.family_violence_ind.drop('MISSING', axis = 0)"
   ]
  },
  {
   "cell_type": "code",
   "execution_count": 67,
   "metadata": {},
   "outputs": [
    {
     "data": {
      "text/plain": [
       "0"
      ]
     },
     "execution_count": 67,
     "metadata": {},
     "output_type": "execute_result"
    }
   ],
   "source": [
    "df2.family_violence_ind.isnull().sum()"
   ]
  },
  {
   "cell_type": "code",
   "execution_count": 68,
   "metadata": {},
   "outputs": [
    {
     "data": {
      "text/plain": [
       "array(['N', 'UNCLEAR', 'MISSING', 'Y'], dtype=object)"
      ]
     },
     "execution_count": 68,
     "metadata": {},
     "output_type": "execute_result"
    }
   ],
   "source": [
    "df2.family_violence_ind.unique()"
   ]
  },
  {
   "cell_type": "code",
   "execution_count": 66,
   "metadata": {},
   "outputs": [],
   "source": [
    "df2.family_violence_ind.dropna(inplace = True)"
   ]
  },
  {
   "cell_type": "code",
   "execution_count": 72,
   "metadata": {},
   "outputs": [
    {
     "data": {
      "text/plain": [
       "array(['N', 'UNKNOWN', 'Y', 'MISSING', 'INV', 'POS', 'UNK', 'REL', 'NOT',\n",
       "       'NP', 'MAY', 'NO0', 'UNCLEAR', 'UNSPECIFIED'], dtype=object)"
      ]
     },
     "execution_count": 72,
     "metadata": {},
     "output_type": "execute_result"
    }
   ],
   "source": [
    "df2.gang_activity_ind.unique()"
   ]
  },
  {
   "cell_type": "code",
   "execution_count": 84,
   "metadata": {},
   "outputs": [
    {
     "data": {
      "text/plain": [
       "N          104130\n",
       "combine     48802\n",
       "Y           25236\n",
       "Name: gang_activity_ind, dtype: int64"
      ]
     },
     "execution_count": 84,
     "metadata": {},
     "output_type": "execute_result"
    }
   ],
   "source": [
    "df2.gang_activity_ind.value_counts()"
   ]
  },
  {
   "cell_type": "code",
   "execution_count": 80,
   "metadata": {},
   "outputs": [],
   "source": [
    "df2.gang_activity_ind.dropna(inplace = True)"
   ]
  },
  {
   "cell_type": "code",
   "execution_count": 83,
   "metadata": {},
   "outputs": [],
   "source": [
    "df2.gang_activity_ind.replace(to_replace= ['INV', 'POS', 'UNK', 'REL', 'NOT','NP', 'MAY', 'NO0', 'UNCLEAR', 'MISSING', 'UNKNOWN','UNSPECIFIED'], value = 'combine', inplace = True)"
   ]
  },
  {
   "cell_type": "code",
   "execution_count": 85,
   "metadata": {},
   "outputs": [
    {
     "ename": "KeyError",
     "evalue": "\"['combine'] not found in axis\"",
     "output_type": "error",
     "traceback": [
      "\u001b[1;31m---------------------------------------------------------------------------\u001b[0m",
      "\u001b[1;31mKeyError\u001b[0m                                  Traceback (most recent call last)",
      "\u001b[1;32m<ipython-input-85-f02e5fd5af0c>\u001b[0m in \u001b[0;36m<module>\u001b[1;34m\u001b[0m\n\u001b[1;32m----> 1\u001b[1;33m \u001b[0mdf2\u001b[0m\u001b[1;33m.\u001b[0m\u001b[0mgang_activity_ind\u001b[0m\u001b[1;33m.\u001b[0m\u001b[0mdrop\u001b[0m\u001b[1;33m(\u001b[0m\u001b[1;34m'combine'\u001b[0m\u001b[1;33m,\u001b[0m \u001b[0maxis\u001b[0m \u001b[1;33m=\u001b[0m \u001b[1;36m0\u001b[0m\u001b[1;33m)\u001b[0m\u001b[1;33m\u001b[0m\u001b[1;33m\u001b[0m\u001b[0m\n\u001b[0m",
      "\u001b[1;32m~\\Anaconda3\\lib\\site-packages\\pandas\\core\\series.py\u001b[0m in \u001b[0;36mdrop\u001b[1;34m(self, labels, axis, index, columns, level, inplace, errors)\u001b[0m\n\u001b[0;32m   4321\u001b[0m             \u001b[0mlevel\u001b[0m\u001b[1;33m=\u001b[0m\u001b[0mlevel\u001b[0m\u001b[1;33m,\u001b[0m\u001b[1;33m\u001b[0m\u001b[1;33m\u001b[0m\u001b[0m\n\u001b[0;32m   4322\u001b[0m             \u001b[0minplace\u001b[0m\u001b[1;33m=\u001b[0m\u001b[0minplace\u001b[0m\u001b[1;33m,\u001b[0m\u001b[1;33m\u001b[0m\u001b[1;33m\u001b[0m\u001b[0m\n\u001b[1;32m-> 4323\u001b[1;33m             \u001b[0merrors\u001b[0m\u001b[1;33m=\u001b[0m\u001b[0merrors\u001b[0m\u001b[1;33m,\u001b[0m\u001b[1;33m\u001b[0m\u001b[1;33m\u001b[0m\u001b[0m\n\u001b[0m\u001b[0;32m   4324\u001b[0m         )\n\u001b[0;32m   4325\u001b[0m \u001b[1;33m\u001b[0m\u001b[0m\n",
      "\u001b[1;32m~\\Anaconda3\\lib\\site-packages\\pandas\\core\\generic.py\u001b[0m in \u001b[0;36mdrop\u001b[1;34m(self, labels, axis, index, columns, level, inplace, errors)\u001b[0m\n\u001b[0;32m   3912\u001b[0m         \u001b[1;32mfor\u001b[0m \u001b[0maxis\u001b[0m\u001b[1;33m,\u001b[0m \u001b[0mlabels\u001b[0m \u001b[1;32min\u001b[0m \u001b[0maxes\u001b[0m\u001b[1;33m.\u001b[0m\u001b[0mitems\u001b[0m\u001b[1;33m(\u001b[0m\u001b[1;33m)\u001b[0m\u001b[1;33m:\u001b[0m\u001b[1;33m\u001b[0m\u001b[1;33m\u001b[0m\u001b[0m\n\u001b[0;32m   3913\u001b[0m             \u001b[1;32mif\u001b[0m \u001b[0mlabels\u001b[0m \u001b[1;32mis\u001b[0m \u001b[1;32mnot\u001b[0m \u001b[1;32mNone\u001b[0m\u001b[1;33m:\u001b[0m\u001b[1;33m\u001b[0m\u001b[1;33m\u001b[0m\u001b[0m\n\u001b[1;32m-> 3914\u001b[1;33m                 \u001b[0mobj\u001b[0m \u001b[1;33m=\u001b[0m \u001b[0mobj\u001b[0m\u001b[1;33m.\u001b[0m\u001b[0m_drop_axis\u001b[0m\u001b[1;33m(\u001b[0m\u001b[0mlabels\u001b[0m\u001b[1;33m,\u001b[0m \u001b[0maxis\u001b[0m\u001b[1;33m,\u001b[0m \u001b[0mlevel\u001b[0m\u001b[1;33m=\u001b[0m\u001b[0mlevel\u001b[0m\u001b[1;33m,\u001b[0m \u001b[0merrors\u001b[0m\u001b[1;33m=\u001b[0m\u001b[0merrors\u001b[0m\u001b[1;33m)\u001b[0m\u001b[1;33m\u001b[0m\u001b[1;33m\u001b[0m\u001b[0m\n\u001b[0m\u001b[0;32m   3915\u001b[0m \u001b[1;33m\u001b[0m\u001b[0m\n\u001b[0;32m   3916\u001b[0m         \u001b[1;32mif\u001b[0m \u001b[0minplace\u001b[0m\u001b[1;33m:\u001b[0m\u001b[1;33m\u001b[0m\u001b[1;33m\u001b[0m\u001b[0m\n",
      "\u001b[1;32m~\\Anaconda3\\lib\\site-packages\\pandas\\core\\generic.py\u001b[0m in \u001b[0;36m_drop_axis\u001b[1;34m(self, labels, axis, level, errors)\u001b[0m\n\u001b[0;32m   3944\u001b[0m                 \u001b[0mnew_axis\u001b[0m \u001b[1;33m=\u001b[0m \u001b[0maxis\u001b[0m\u001b[1;33m.\u001b[0m\u001b[0mdrop\u001b[0m\u001b[1;33m(\u001b[0m\u001b[0mlabels\u001b[0m\u001b[1;33m,\u001b[0m \u001b[0mlevel\u001b[0m\u001b[1;33m=\u001b[0m\u001b[0mlevel\u001b[0m\u001b[1;33m,\u001b[0m \u001b[0merrors\u001b[0m\u001b[1;33m=\u001b[0m\u001b[0merrors\u001b[0m\u001b[1;33m)\u001b[0m\u001b[1;33m\u001b[0m\u001b[1;33m\u001b[0m\u001b[0m\n\u001b[0;32m   3945\u001b[0m             \u001b[1;32melse\u001b[0m\u001b[1;33m:\u001b[0m\u001b[1;33m\u001b[0m\u001b[1;33m\u001b[0m\u001b[0m\n\u001b[1;32m-> 3946\u001b[1;33m                 \u001b[0mnew_axis\u001b[0m \u001b[1;33m=\u001b[0m \u001b[0maxis\u001b[0m\u001b[1;33m.\u001b[0m\u001b[0mdrop\u001b[0m\u001b[1;33m(\u001b[0m\u001b[0mlabels\u001b[0m\u001b[1;33m,\u001b[0m \u001b[0merrors\u001b[0m\u001b[1;33m=\u001b[0m\u001b[0merrors\u001b[0m\u001b[1;33m)\u001b[0m\u001b[1;33m\u001b[0m\u001b[1;33m\u001b[0m\u001b[0m\n\u001b[0m\u001b[0;32m   3947\u001b[0m             \u001b[0mresult\u001b[0m \u001b[1;33m=\u001b[0m \u001b[0mself\u001b[0m\u001b[1;33m.\u001b[0m\u001b[0mreindex\u001b[0m\u001b[1;33m(\u001b[0m\u001b[1;33m**\u001b[0m\u001b[1;33m{\u001b[0m\u001b[0maxis_name\u001b[0m\u001b[1;33m:\u001b[0m \u001b[0mnew_axis\u001b[0m\u001b[1;33m}\u001b[0m\u001b[1;33m)\u001b[0m\u001b[1;33m\u001b[0m\u001b[1;33m\u001b[0m\u001b[0m\n\u001b[0;32m   3948\u001b[0m \u001b[1;33m\u001b[0m\u001b[0m\n",
      "\u001b[1;32m~\\Anaconda3\\lib\\site-packages\\pandas\\core\\indexes\\base.py\u001b[0m in \u001b[0;36mdrop\u001b[1;34m(self, labels, errors)\u001b[0m\n\u001b[0;32m   5338\u001b[0m         \u001b[1;32mif\u001b[0m \u001b[0mmask\u001b[0m\u001b[1;33m.\u001b[0m\u001b[0many\u001b[0m\u001b[1;33m(\u001b[0m\u001b[1;33m)\u001b[0m\u001b[1;33m:\u001b[0m\u001b[1;33m\u001b[0m\u001b[1;33m\u001b[0m\u001b[0m\n\u001b[0;32m   5339\u001b[0m             \u001b[1;32mif\u001b[0m \u001b[0merrors\u001b[0m \u001b[1;33m!=\u001b[0m \u001b[1;34m\"ignore\"\u001b[0m\u001b[1;33m:\u001b[0m\u001b[1;33m\u001b[0m\u001b[1;33m\u001b[0m\u001b[0m\n\u001b[1;32m-> 5340\u001b[1;33m                 \u001b[1;32mraise\u001b[0m \u001b[0mKeyError\u001b[0m\u001b[1;33m(\u001b[0m\u001b[1;34m\"{} not found in axis\"\u001b[0m\u001b[1;33m.\u001b[0m\u001b[0mformat\u001b[0m\u001b[1;33m(\u001b[0m\u001b[0mlabels\u001b[0m\u001b[1;33m[\u001b[0m\u001b[0mmask\u001b[0m\u001b[1;33m]\u001b[0m\u001b[1;33m)\u001b[0m\u001b[1;33m)\u001b[0m\u001b[1;33m\u001b[0m\u001b[1;33m\u001b[0m\u001b[0m\n\u001b[0m\u001b[0;32m   5341\u001b[0m             \u001b[0mindexer\u001b[0m \u001b[1;33m=\u001b[0m \u001b[0mindexer\u001b[0m\u001b[1;33m[\u001b[0m\u001b[1;33m~\u001b[0m\u001b[0mmask\u001b[0m\u001b[1;33m]\u001b[0m\u001b[1;33m\u001b[0m\u001b[1;33m\u001b[0m\u001b[0m\n\u001b[0;32m   5342\u001b[0m         \u001b[1;32mreturn\u001b[0m \u001b[0mself\u001b[0m\u001b[1;33m.\u001b[0m\u001b[0mdelete\u001b[0m\u001b[1;33m(\u001b[0m\u001b[0mindexer\u001b[0m\u001b[1;33m)\u001b[0m\u001b[1;33m\u001b[0m\u001b[1;33m\u001b[0m\u001b[0m\n",
      "\u001b[1;31mKeyError\u001b[0m: \"['combine'] not found in axis\""
     ]
    }
   ],
   "source": [
    "df2.gang_activity_ind.drop('combine', axis = 0)"
   ]
  },
  {
   "cell_type": "code",
   "execution_count": 98,
   "metadata": {},
   "outputs": [
    {
     "data": {
      "text/html": [
       "<div>\n",
       "<style scoped>\n",
       "    .dataframe tbody tr th:only-of-type {\n",
       "        vertical-align: middle;\n",
       "    }\n",
       "\n",
       "    .dataframe tbody tr th {\n",
       "        vertical-align: top;\n",
       "    }\n",
       "\n",
       "    .dataframe thead th {\n",
       "        text-align: right;\n",
       "    }\n",
       "</style>\n",
       "<table border=\"1\" class=\"dataframe\">\n",
       "  <thead>\n",
       "    <tr style=\"text-align: right;\">\n",
       "      <th></th>\n",
       "      <th>source</th>\n",
       "      <th>occurred_date</th>\n",
       "      <th>offense_category</th>\n",
       "      <th>firearm_ind</th>\n",
       "      <th>offense_group</th>\n",
       "      <th>domestic_violence_ind</th>\n",
       "      <th>family_violence_ind</th>\n",
       "      <th>gang_activity_ind</th>\n",
       "      <th>inside_outside</th>\n",
       "      <th>victim_age</th>\n",
       "      <th>victim_race</th>\n",
       "      <th>victim_sex</th>\n",
       "      <th>arrest_ind</th>\n",
       "    </tr>\n",
       "  </thead>\n",
       "  <tbody>\n",
       "    <tr>\n",
       "      <td>0</td>\n",
       "      <td>BALTIMORE-MAIN</td>\n",
       "      <td>2017-07-26</td>\n",
       "      <td>NON FATAL SHOOTING</td>\n",
       "      <td>Y</td>\n",
       "      <td>Non-Fatal Shooting</td>\n",
       "      <td>NaN</td>\n",
       "      <td>NaN</td>\n",
       "      <td>NaN</td>\n",
       "      <td>NaN</td>\n",
       "      <td>22</td>\n",
       "      <td>BLACK</td>\n",
       "      <td>MALE</td>\n",
       "      <td>NaN</td>\n",
       "    </tr>\n",
       "    <tr>\n",
       "      <td>1</td>\n",
       "      <td>BALTIMORE-MAIN</td>\n",
       "      <td>2017-07-26</td>\n",
       "      <td>NON FATAL SHOOTING</td>\n",
       "      <td>Y</td>\n",
       "      <td>Non-Fatal Shooting</td>\n",
       "      <td>NaN</td>\n",
       "      <td>NaN</td>\n",
       "      <td>NaN</td>\n",
       "      <td>NaN</td>\n",
       "      <td>53</td>\n",
       "      <td>BLACK</td>\n",
       "      <td>FEMALE</td>\n",
       "      <td>NaN</td>\n",
       "    </tr>\n",
       "    <tr>\n",
       "      <td>2</td>\n",
       "      <td>BALTIMORE-MAIN</td>\n",
       "      <td>2017-07-25</td>\n",
       "      <td>NON FATAL SHOOTING</td>\n",
       "      <td>Y</td>\n",
       "      <td>Non-Fatal Shooting</td>\n",
       "      <td>NaN</td>\n",
       "      <td>NaN</td>\n",
       "      <td>NaN</td>\n",
       "      <td>NaN</td>\n",
       "      <td>19</td>\n",
       "      <td>BLACK</td>\n",
       "      <td>MALE</td>\n",
       "      <td>NaN</td>\n",
       "    </tr>\n",
       "    <tr>\n",
       "      <td>3</td>\n",
       "      <td>BALTIMORE-MAIN</td>\n",
       "      <td>2017-07-25</td>\n",
       "      <td>NON FATAL SHOOTING</td>\n",
       "      <td>Y</td>\n",
       "      <td>Non-Fatal Shooting</td>\n",
       "      <td>NaN</td>\n",
       "      <td>NaN</td>\n",
       "      <td>NaN</td>\n",
       "      <td>NaN</td>\n",
       "      <td>29</td>\n",
       "      <td>BLACK</td>\n",
       "      <td>MALE</td>\n",
       "      <td>NaN</td>\n",
       "    </tr>\n",
       "    <tr>\n",
       "      <td>4</td>\n",
       "      <td>BALTIMORE-MAIN</td>\n",
       "      <td>2017-07-24</td>\n",
       "      <td>NON FATAL SHOOTING</td>\n",
       "      <td>Y</td>\n",
       "      <td>Non-Fatal Shooting</td>\n",
       "      <td>NaN</td>\n",
       "      <td>NaN</td>\n",
       "      <td>NaN</td>\n",
       "      <td>NaN</td>\n",
       "      <td>22</td>\n",
       "      <td>BLACK</td>\n",
       "      <td>MALE</td>\n",
       "      <td>NaN</td>\n",
       "    </tr>\n",
       "  </tbody>\n",
       "</table>\n",
       "</div>"
      ],
      "text/plain": [
       "           source occurred_date    offense_category firearm_ind  \\\n",
       "0  BALTIMORE-MAIN    2017-07-26  NON FATAL SHOOTING           Y   \n",
       "1  BALTIMORE-MAIN    2017-07-26  NON FATAL SHOOTING           Y   \n",
       "2  BALTIMORE-MAIN    2017-07-25  NON FATAL SHOOTING           Y   \n",
       "3  BALTIMORE-MAIN    2017-07-25  NON FATAL SHOOTING           Y   \n",
       "4  BALTIMORE-MAIN    2017-07-24  NON FATAL SHOOTING           Y   \n",
       "\n",
       "        offense_group domestic_violence_ind family_violence_ind  \\\n",
       "0  Non-Fatal Shooting                   NaN                 NaN   \n",
       "1  Non-Fatal Shooting                   NaN                 NaN   \n",
       "2  Non-Fatal Shooting                   NaN                 NaN   \n",
       "3  Non-Fatal Shooting                   NaN                 NaN   \n",
       "4  Non-Fatal Shooting                   NaN                 NaN   \n",
       "\n",
       "  gang_activity_ind inside_outside victim_age victim_race victim_sex  \\\n",
       "0               NaN            NaN         22       BLACK       MALE   \n",
       "1               NaN            NaN         53       BLACK     FEMALE   \n",
       "2               NaN            NaN         19       BLACK       MALE   \n",
       "3               NaN            NaN         29       BLACK       MALE   \n",
       "4               NaN            NaN         22       BLACK       MALE   \n",
       "\n",
       "  arrest_ind  \n",
       "0        NaN  \n",
       "1        NaN  \n",
       "2        NaN  \n",
       "3        NaN  \n",
       "4        NaN  "
      ]
     },
     "execution_count": 98,
     "metadata": {},
     "output_type": "execute_result"
    }
   ],
   "source": [
    "df2.head()"
   ]
  },
  {
   "cell_type": "code",
   "execution_count": 105,
   "metadata": {},
   "outputs": [
    {
     "data": {
      "text/plain": [
       "array(['combine', 'OUTSIDE', 'INSIDE'], dtype=object)"
      ]
     },
     "execution_count": 105,
     "metadata": {},
     "output_type": "execute_result"
    }
   ],
   "source": [
    "df2.inside_outside.unique()"
   ]
  },
  {
   "cell_type": "code",
   "execution_count": 102,
   "metadata": {},
   "outputs": [],
   "source": [
    "df2.inside_outside.dropna(inplace = True)"
   ]
  },
  {
   "cell_type": "code",
   "execution_count": 104,
   "metadata": {},
   "outputs": [],
   "source": [
    "df2.inside_outside.replace(to_replace= ['MISSING-JOIN', 'MISSING', 'UNKNOWN', 'AMBIGUOUS'], value = 'combine', inplace = True)"
   ]
  },
  {
   "cell_type": "code",
   "execution_count": 108,
   "metadata": {},
   "outputs": [
    {
     "data": {
      "text/plain": [
       "array([22.0, 53.0, 19.0, 29.0, 36.0, 23.0, 32.0, 25.0, 39.0, 40.0, 30.0,\n",
       "       48.0, 33.0, 15.0, 20.0, 34.0, 26.0, 18.0, 24.0, 17.0, 28.0, 27.0,\n",
       "       42.0, 52.0, 54.0, 21.0, 41.0, 38.0, 35.0, 16.0, 13.0, 55.0, 31.0,\n",
       "       45.0, 10.0, 51.0, 66.0, 37.0, 44.0, 46.0, 59.0, 67.0, 2.0, 49.0,\n",
       "       90.0, 14.0, 64.0, 58.0, 50.0, 47.0, 43.0, 0.0, 57.0, 68.0, 3.0,\n",
       "       4.0, 8.0, 62.0, 61.0, 6.0, 56.0, 60.0, 12.0, 82.0, 11.0, 9.0, 93.0,\n",
       "       85.0, 65.0, 70.0, 72.0, 97.0, 63.0, 79.0, 83.0, 73.0, 1.0, 69.0,\n",
       "       91.0, 77.0, 71.0, 7.0, 84.0, 86.0, 80.0, 5.0, 74.0, 78.0, 81.0,\n",
       "       76.0, 88.0, 75.0, 89.0, 87.0, 94.0, 96.0, 92.0, 98.0, 105.0, 95.0,\n",
       "       114.0, 115.0, 215.0, 116.0, 217.0, 99.0, '51', '31', '23', '32',\n",
       "       '66', '17', '48', '34', '63', '20', '52', '25', '26', '72', '39',\n",
       "       '64', '47', '18', '61', '28', '44', '38', '94', '19', '36', '50',\n",
       "       '55', '22', '33', '24', '27', '53', '37', '46', '59', '15', '29',\n",
       "       '35', '65', '43', '12', '45', '41', '21', '30', '42', '75', '14',\n",
       "       '95', '57', '40', '16', '49', '10', '82', '54', '13', '56', '69',\n",
       "       '58', '60', '86', '62', '11', '68', '70', '73', '81', '78', '79',\n",
       "       '67', '77', '74', '83', '71', '76', '88', '85', '92', '87', '84',\n",
       "       '91', '89', '97', '80', '99', '98', '90', 'UNDER 18', '0', '1',\n",
       "       '3', '2', '4', '9', '6', '8', '5', '93', '7', 109.0, 193.0, 100.0],\n",
       "      dtype=object)"
      ]
     },
     "execution_count": 108,
     "metadata": {},
     "output_type": "execute_result"
    }
   ],
   "source": [
    "df2.victim_age.unique() #Have to figure out what to do with some of the weird ages that are over 100 or in 90s and 'UNDER 18' value"
   ]
  },
  {
   "cell_type": "code",
   "execution_count": 107,
   "metadata": {},
   "outputs": [],
   "source": [
    "df2.victim_age.dropna(inplace = True)"
   ]
  },
  {
   "cell_type": "code",
   "execution_count": 112,
   "metadata": {},
   "outputs": [],
   "source": [
    "df2.victim_race.dropna(inplace = True)"
   ]
  },
  {
   "cell_type": "code",
   "execution_count": 125,
   "metadata": {},
   "outputs": [
    {
     "data": {
      "text/plain": [
       "array(['BLACK', 'WHITE', 'HISPANIC', 'OTHER', 'ASIAN'], dtype=object)"
      ]
     },
     "execution_count": 125,
     "metadata": {},
     "output_type": "execute_result"
    }
   ],
   "source": [
    "df2.victim_race.unique()"
   ]
  },
  {
   "cell_type": "code",
   "execution_count": 116,
   "metadata": {},
   "outputs": [],
   "source": [
    "df2.victim_race.replace(to_replace= ['B', 'BLACK NON-HISPANIC', 'BLACK-HISPANIC', 'BLACK HISPANIC', ], value = 'BLACK', inplace = True)"
   ]
  },
  {
   "cell_type": "code",
   "execution_count": 118,
   "metadata": {},
   "outputs": [],
   "source": [
    "df2.victim_race.replace(to_replace= ['ASIAN PACIFIC ISLANDER', 'INDIAN', 'ASIAN/PACIFIC ISLANDER', 'MIDDLE EASTERN','NATIVE HAWAIIAN OR PACIFIC ISLANDER','OTHER ASIAN', 'LAOTIAN', 'HAWAIIAN', 'PACIFIC ISLANDER', 'ASIAN OR PACIFIC ISLANDER','ASIAN/PAC.ISL', 'FILIPINO', 'KOREAN', 'VIETNAMESE',\n",
    "       'SAMOAN', 'CHINESE', 'CAMBODIAN', 'JAPANESE', 'ASIAN INDIAN',\n",
    "       'GUAMANIAN'  ], value = 'ASIAN', inplace = True)"
   ]
  },
  {
   "cell_type": "code",
   "execution_count": 120,
   "metadata": {},
   "outputs": [],
   "source": [
    "df2.victim_race.replace(to_replace= ['W', 'WHITE NON-HISPANIC'], value = 'WHITE', inplace = True)"
   ]
  },
  {
   "cell_type": "code",
   "execution_count": 122,
   "metadata": {},
   "outputs": [],
   "source": [
    "df2.victim_race.replace(to_replace= ['LATIN/HISPANIC', 'WHITE HISPANIC'], value = 'HISPANIC', inplace = True)"
   ]
  },
  {
   "cell_type": "code",
   "execution_count": 124,
   "metadata": {},
   "outputs": [],
   "source": [
    "df2.victim_race.replace(to_replace= ['UNKNOWN', 'A', 'I', 'H', 'U', 'O', 'AMRICN INDIAN/ALSKN NTV',\n",
    "       'AMERICAN INDIAN/NATIVE AMERICAN', 'MISSING', 'P',\n",
    "       'NATIVE AMERICAN', 'UNDER 18', 'M', 'IB', 'OTH'], value = 'OTHER', inplace = True)"
   ]
  },
  {
   "cell_type": "code",
   "execution_count": 126,
   "metadata": {},
   "outputs": [
    {
     "data": {
      "text/plain": [
       "BLACK       131804\n",
       "WHITE        73255\n",
       "HISPANIC     65044\n",
       "OTHER        13230\n",
       "ASIAN         4337\n",
       "Name: victim_race, dtype: int64"
      ]
     },
     "execution_count": 126,
     "metadata": {},
     "output_type": "execute_result"
    }
   ],
   "source": [
    "df2.victim_race.value_counts()"
   ]
  },
  {
   "cell_type": "code",
   "execution_count": 135,
   "metadata": {},
   "outputs": [
    {
     "data": {
      "text/plain": [
       "array(['MALE', 'FEMALE', 'OTHER'], dtype=object)"
      ]
     },
     "execution_count": 135,
     "metadata": {},
     "output_type": "execute_result"
    }
   ],
   "source": [
    "df2.victim_sex.unique()"
   ]
  },
  {
   "cell_type": "code",
   "execution_count": 128,
   "metadata": {},
   "outputs": [],
   "source": [
    "df2.victim_sex.dropna(inplace = True)"
   ]
  },
  {
   "cell_type": "code",
   "execution_count": 130,
   "metadata": {},
   "outputs": [],
   "source": [
    "df2.victim_sex.replace(to_replace= ['M'], value = 'MALE', inplace = True)"
   ]
  },
  {
   "cell_type": "code",
   "execution_count": 132,
   "metadata": {},
   "outputs": [],
   "source": [
    "df2.victim_sex.replace(to_replace= ['F'], value = 'FEMALE', inplace = True)"
   ]
  },
  {
   "cell_type": "code",
   "execution_count": 134,
   "metadata": {},
   "outputs": [],
   "source": [
    "df2.victim_sex.replace(to_replace= ['TRANSGENDERED', 'UNCLEAR', 'UNKNOWN', 'UNK',\n",
    "       'TEST', 'U', 'X', 'H', 'UNDER 18', 'M ', 'MISSING', 'OTH'], value = 'OTHER', inplace = True)"
   ]
  },
  {
   "cell_type": "code",
   "execution_count": 142,
   "metadata": {},
   "outputs": [
    {
     "data": {
      "text/plain": [
       "MALE      186090\n",
       "FEMALE     97973\n",
       "OTHER       3547\n",
       "Name: victim_sex, dtype: int64"
      ]
     },
     "execution_count": 142,
     "metadata": {},
     "output_type": "execute_result"
    }
   ],
   "source": [
    "df2.victim_sex.value_counts()"
   ]
  },
  {
   "cell_type": "code",
   "execution_count": 144,
   "metadata": {},
   "outputs": [
    {
     "data": {
      "text/plain": [
       "array(['N', 'Y', 'UNCLEAR'], dtype=object)"
      ]
     },
     "execution_count": 144,
     "metadata": {},
     "output_type": "execute_result"
    }
   ],
   "source": [
    "df2.arrest_ind.unique()"
   ]
  },
  {
   "cell_type": "code",
   "execution_count": 138,
   "metadata": {},
   "outputs": [],
   "source": [
    "df2.arrest_ind.dropna(inplace = True)"
   ]
  },
  {
   "cell_type": "code",
   "execution_count": 143,
   "metadata": {},
   "outputs": [],
   "source": [
    "df2.arrest_ind.replace(to_replace= ['MISSING', 'UNKNOWN'], value = 'UNCLEAR', inplace = True)"
   ]
  },
  {
   "cell_type": "code",
   "execution_count": 145,
   "metadata": {},
   "outputs": [
    {
     "name": "stdout",
     "output_type": "stream",
     "text": [
      "<class 'pandas.core.frame.DataFrame'>\n",
      "RangeIndex: 747658 entries, 0 to 747657\n",
      "Data columns (total 13 columns):\n",
      "source                   747658 non-null object\n",
      "occurred_date            747572 non-null object\n",
      "offense_category         431064 non-null object\n",
      "firearm_ind              747658 non-null object\n",
      "offense_group            747658 non-null object\n",
      "domestic_violence_ind    469463 non-null object\n",
      "family_violence_ind      45032 non-null object\n",
      "gang_activity_ind        178168 non-null object\n",
      "inside_outside           2842 non-null object\n",
      "victim_age               277789 non-null object\n",
      "victim_race              287670 non-null object\n",
      "victim_sex               287610 non-null object\n",
      "arrest_ind               687899 non-null object\n",
      "dtypes: object(13)\n",
      "memory usage: 43.2+ MB\n"
     ]
    }
   ],
   "source": [
    "df2.info()"
   ]
  },
  {
   "cell_type": "code",
   "execution_count": null,
   "metadata": {},
   "outputs": [],
   "source": []
  }
 ],
 "metadata": {
  "kernelspec": {
   "display_name": "Python 3",
   "language": "python",
   "name": "python3"
  },
  "language_info": {
   "codemirror_mode": {
    "name": "ipython",
    "version": 3
   },
   "file_extension": ".py",
   "mimetype": "text/x-python",
   "name": "python",
   "nbconvert_exporter": "python",
   "pygments_lexer": "ipython3",
   "version": "3.7.4"
  }
 },
 "nbformat": 4,
 "nbformat_minor": 4
}
